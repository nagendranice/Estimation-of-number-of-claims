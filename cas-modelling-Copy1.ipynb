{
 "cells": [
  {
   "cell_type": "code",
   "execution_count": 3,
   "metadata": {
    "_cell_guid": "b1076dfc-b9ad-4769-8c92-a6c4dae69d19",
    "_uuid": "8f2839f25d086af736a60e9eeb907d3b93b6e0e5",
    "execution": {
     "iopub.execute_input": "2022-04-04T06:36:04.668455Z",
     "iopub.status.busy": "2022-04-04T06:36:04.668097Z",
     "iopub.status.idle": "2022-04-04T06:36:04.674069Z",
     "shell.execute_reply": "2022-04-04T06:36:04.673331Z",
     "shell.execute_reply.started": "2022-04-04T06:36:04.668413Z"
    }
   },
   "outputs": [],
   "source": [
    "# This Python 3 environment comes with many helpful analytics libraries installed\n",
    "# It is defined by the kaggle/python Docker image: https://github.com/kaggle/docker-python\n",
    "# For example, here's several helpful packages to load\n",
    "\n",
    "import numpy as np # linear algebra\n",
    "import pandas as pd # data processing, CSV file I/O (e.g. pd.read_csv)\n",
    "from patsy import dmatrices\n",
    "import statsmodels.api as sm\n",
    "from sklearn.metrics import mean_squared_error "
   ]
  },
  {
   "cell_type": "code",
   "execution_count": 4,
   "metadata": {
    "execution": {
     "iopub.execute_input": "2022-04-04T06:36:04.688343Z",
     "iopub.status.busy": "2022-04-04T06:36:04.687018Z",
     "iopub.status.idle": "2022-04-04T06:36:17.362491Z",
     "shell.execute_reply": "2022-04-04T06:36:17.361618Z",
     "shell.execute_reply.started": "2022-04-04T06:36:04.688278Z"
    }
   },
   "outputs": [
    {
     "data": {
      "text/html": [
       "<div>\n",
       "<style scoped>\n",
       "    .dataframe tbody tr th:only-of-type {\n",
       "        vertical-align: middle;\n",
       "    }\n",
       "\n",
       "    .dataframe tbody tr th {\n",
       "        vertical-align: top;\n",
       "    }\n",
       "\n",
       "    .dataframe thead th {\n",
       "        text-align: right;\n",
       "    }\n",
       "</style>\n",
       "<table border=\"1\" class=\"dataframe\">\n",
       "  <thead>\n",
       "    <tr style=\"text-align: right;\">\n",
       "      <th></th>\n",
       "      <th>Unnamed: 0</th>\n",
       "      <th>X</th>\n",
       "      <th>Y</th>\n",
       "      <th>bicycle</th>\n",
       "      <th>bridge</th>\n",
       "      <th>bus</th>\n",
       "      <th>carStationWagon</th>\n",
       "      <th>cliffBank</th>\n",
       "      <th>crashDirectionDescription</th>\n",
       "      <th>crashFinancialYear</th>\n",
       "      <th>crashLocation1</th>\n",
       "      <th>crashLocation2</th>\n",
       "      <th>crashSeverity</th>\n",
       "      <th>crashSHDescription</th>\n",
       "      <th>crashYear</th>\n",
       "      <th>debris</th>\n",
       "      <th>directionRoleDescription</th>\n",
       "      <th>ditch</th>\n",
       "      <th>fatalCount</th>\n",
       "      <th>fence</th>\n",
       "      <th>flatHill</th>\n",
       "      <th>guardRail</th>\n",
       "      <th>houseOrBuilding</th>\n",
       "      <th>kerb</th>\n",
       "      <th>light</th>\n",
       "      <th>minorInjuryCount</th>\n",
       "      <th>moped</th>\n",
       "      <th>motorcycle</th>\n",
       "      <th>NumberOfLanes</th>\n",
       "      <th>objectThrownOrDropped</th>\n",
       "      <th>otherObject</th>\n",
       "      <th>otherVehicleType</th>\n",
       "      <th>overBank</th>\n",
       "      <th>parkedVehicle</th>\n",
       "      <th>phoneBoxEtc</th>\n",
       "      <th>postOrPole</th>\n",
       "      <th>region</th>\n",
       "      <th>roadCharacter</th>\n",
       "      <th>roadLane</th>\n",
       "      <th>roadSurface</th>\n",
       "      <th>roadworks</th>\n",
       "      <th>schoolBus</th>\n",
       "      <th>seriousInjuryCount</th>\n",
       "      <th>slipOrFlood</th>\n",
       "      <th>speedLimit</th>\n",
       "      <th>strayAnimal</th>\n",
       "      <th>streetLight</th>\n",
       "      <th>suv</th>\n",
       "      <th>taxi</th>\n",
       "      <th>tlaName</th>\n",
       "      <th>trafficControl</th>\n",
       "      <th>trafficIsland</th>\n",
       "      <th>trafficSign</th>\n",
       "      <th>train</th>\n",
       "      <th>tree</th>\n",
       "      <th>truck</th>\n",
       "      <th>unknownVehicleType</th>\n",
       "      <th>urban</th>\n",
       "      <th>vanOrUtility</th>\n",
       "      <th>vehicle</th>\n",
       "      <th>waterRiver</th>\n",
       "      <th>weatherA</th>\n",
       "    </tr>\n",
       "  </thead>\n",
       "  <tbody>\n",
       "    <tr>\n",
       "      <th>0</th>\n",
       "      <td>0</td>\n",
       "      <td>1772561.0</td>\n",
       "      <td>5896382.0</td>\n",
       "      <td>0.0</td>\n",
       "      <td>0.0</td>\n",
       "      <td>0.0</td>\n",
       "      <td>1.0</td>\n",
       "      <td>0.0</td>\n",
       "      <td>None</td>\n",
       "      <td>2007/2008</td>\n",
       "      <td>EAST ST</td>\n",
       "      <td>ELLIOT ST</td>\n",
       "      <td>Non-Injury Crash</td>\n",
       "      <td>No</td>\n",
       "      <td>2007</td>\n",
       "      <td>0.0</td>\n",
       "      <td>North</td>\n",
       "      <td>0.0</td>\n",
       "      <td>0.0</td>\n",
       "      <td>0.0</td>\n",
       "      <td>Flat</td>\n",
       "      <td>0.0</td>\n",
       "      <td>0.0</td>\n",
       "      <td>0.0</td>\n",
       "      <td>Dark</td>\n",
       "      <td>0.0</td>\n",
       "      <td>0.0</td>\n",
       "      <td>0.0</td>\n",
       "      <td>2.0</td>\n",
       "      <td>0.0</td>\n",
       "      <td>0.0</td>\n",
       "      <td>0.0</td>\n",
       "      <td>0.0</td>\n",
       "      <td>0.0</td>\n",
       "      <td>0.0</td>\n",
       "      <td>0.0</td>\n",
       "      <td>Auckland Region</td>\n",
       "      <td>Nil</td>\n",
       "      <td>2-way</td>\n",
       "      <td>Sealed</td>\n",
       "      <td>0.0</td>\n",
       "      <td>0.0</td>\n",
       "      <td>0.0</td>\n",
       "      <td>0.0</td>\n",
       "      <td>50.0</td>\n",
       "      <td>0.0</td>\n",
       "      <td>On</td>\n",
       "      <td>1.0</td>\n",
       "      <td>0.0</td>\n",
       "      <td>Auckland</td>\n",
       "      <td>Traffic Signals</td>\n",
       "      <td>0.0</td>\n",
       "      <td>0.0</td>\n",
       "      <td>0.0</td>\n",
       "      <td>0.0</td>\n",
       "      <td>0.0</td>\n",
       "      <td>0.0</td>\n",
       "      <td>Urban</td>\n",
       "      <td>0.0</td>\n",
       "      <td>0.0</td>\n",
       "      <td>0.0</td>\n",
       "      <td>Fine</td>\n",
       "    </tr>\n",
       "    <tr>\n",
       "      <th>1</th>\n",
       "      <td>1</td>\n",
       "      <td>1836757.0</td>\n",
       "      <td>5859311.0</td>\n",
       "      <td>0.0</td>\n",
       "      <td>0.0</td>\n",
       "      <td>0.0</td>\n",
       "      <td>2.0</td>\n",
       "      <td>0.0</td>\n",
       "      <td>None</td>\n",
       "      <td>2002/2003</td>\n",
       "      <td>SH 2</td>\n",
       "      <td>SH 26</td>\n",
       "      <td>Non-Injury Crash</td>\n",
       "      <td>Yes</td>\n",
       "      <td>2003</td>\n",
       "      <td>0.0</td>\n",
       "      <td>North</td>\n",
       "      <td>0.0</td>\n",
       "      <td>0.0</td>\n",
       "      <td>0.0</td>\n",
       "      <td>Flat</td>\n",
       "      <td>0.0</td>\n",
       "      <td>0.0</td>\n",
       "      <td>0.0</td>\n",
       "      <td>Dark</td>\n",
       "      <td>0.0</td>\n",
       "      <td>0.0</td>\n",
       "      <td>0.0</td>\n",
       "      <td>2.0</td>\n",
       "      <td>0.0</td>\n",
       "      <td>0.0</td>\n",
       "      <td>0.0</td>\n",
       "      <td>0.0</td>\n",
       "      <td>0.0</td>\n",
       "      <td>0.0</td>\n",
       "      <td>0.0</td>\n",
       "      <td>Waikato Region</td>\n",
       "      <td>Nil</td>\n",
       "      <td>2-way</td>\n",
       "      <td>Sealed</td>\n",
       "      <td>0.0</td>\n",
       "      <td>0.0</td>\n",
       "      <td>0.0</td>\n",
       "      <td>0.0</td>\n",
       "      <td>50.0</td>\n",
       "      <td>0.0</td>\n",
       "      <td>On</td>\n",
       "      <td>0.0</td>\n",
       "      <td>0.0</td>\n",
       "      <td>Hauraki District</td>\n",
       "      <td>Give way</td>\n",
       "      <td>0.0</td>\n",
       "      <td>0.0</td>\n",
       "      <td>0.0</td>\n",
       "      <td>0.0</td>\n",
       "      <td>0.0</td>\n",
       "      <td>0.0</td>\n",
       "      <td>Urban</td>\n",
       "      <td>0.0</td>\n",
       "      <td>0.0</td>\n",
       "      <td>0.0</td>\n",
       "      <td>Fine</td>\n",
       "    </tr>\n",
       "    <tr>\n",
       "      <th>2</th>\n",
       "      <td>2</td>\n",
       "      <td>1762088.0</td>\n",
       "      <td>5912507.0</td>\n",
       "      <td>0.0</td>\n",
       "      <td>0.0</td>\n",
       "      <td>0.0</td>\n",
       "      <td>1.0</td>\n",
       "      <td>0.0</td>\n",
       "      <td>West</td>\n",
       "      <td>2009/2010</td>\n",
       "      <td>CHURCH ST</td>\n",
       "      <td>HUGO JOHNSTON DRIVE</td>\n",
       "      <td>Non-Injury Crash</td>\n",
       "      <td>No</td>\n",
       "      <td>2010</td>\n",
       "      <td>0.0</td>\n",
       "      <td>East</td>\n",
       "      <td>0.0</td>\n",
       "      <td>0.0</td>\n",
       "      <td>0.0</td>\n",
       "      <td>Flat</td>\n",
       "      <td>0.0</td>\n",
       "      <td>0.0</td>\n",
       "      <td>0.0</td>\n",
       "      <td>Bright sun</td>\n",
       "      <td>0.0</td>\n",
       "      <td>0.0</td>\n",
       "      <td>0.0</td>\n",
       "      <td>2.0</td>\n",
       "      <td>0.0</td>\n",
       "      <td>0.0</td>\n",
       "      <td>0.0</td>\n",
       "      <td>0.0</td>\n",
       "      <td>0.0</td>\n",
       "      <td>0.0</td>\n",
       "      <td>0.0</td>\n",
       "      <td>Auckland Region</td>\n",
       "      <td>Nil</td>\n",
       "      <td>2-way</td>\n",
       "      <td>Sealed</td>\n",
       "      <td>0.0</td>\n",
       "      <td>0.0</td>\n",
       "      <td>0.0</td>\n",
       "      <td>0.0</td>\n",
       "      <td>50.0</td>\n",
       "      <td>0.0</td>\n",
       "      <td>Off</td>\n",
       "      <td>0.0</td>\n",
       "      <td>0.0</td>\n",
       "      <td>Auckland</td>\n",
       "      <td>Traffic Signals</td>\n",
       "      <td>0.0</td>\n",
       "      <td>0.0</td>\n",
       "      <td>0.0</td>\n",
       "      <td>0.0</td>\n",
       "      <td>0.0</td>\n",
       "      <td>0.0</td>\n",
       "      <td>Urban</td>\n",
       "      <td>1.0</td>\n",
       "      <td>0.0</td>\n",
       "      <td>0.0</td>\n",
       "      <td>Fine</td>\n",
       "    </tr>\n",
       "    <tr>\n",
       "      <th>3</th>\n",
       "      <td>3</td>\n",
       "      <td>1753522.0</td>\n",
       "      <td>5911939.0</td>\n",
       "      <td>0.0</td>\n",
       "      <td>0.0</td>\n",
       "      <td>0.0</td>\n",
       "      <td>2.0</td>\n",
       "      <td>0.0</td>\n",
       "      <td>None</td>\n",
       "      <td>2017/2018</td>\n",
       "      <td>THE AVENUE</td>\n",
       "      <td>ACCESSWAY</td>\n",
       "      <td>Minor Crash</td>\n",
       "      <td>No</td>\n",
       "      <td>2017</td>\n",
       "      <td>0.0</td>\n",
       "      <td>North</td>\n",
       "      <td>0.0</td>\n",
       "      <td>0.0</td>\n",
       "      <td>0.0</td>\n",
       "      <td>Hill Road</td>\n",
       "      <td>0.0</td>\n",
       "      <td>0.0</td>\n",
       "      <td>0.0</td>\n",
       "      <td>Overcast</td>\n",
       "      <td>1.0</td>\n",
       "      <td>0.0</td>\n",
       "      <td>0.0</td>\n",
       "      <td>2.0</td>\n",
       "      <td>0.0</td>\n",
       "      <td>0.0</td>\n",
       "      <td>0.0</td>\n",
       "      <td>0.0</td>\n",
       "      <td>0.0</td>\n",
       "      <td>0.0</td>\n",
       "      <td>0.0</td>\n",
       "      <td>Auckland Region</td>\n",
       "      <td>Nil</td>\n",
       "      <td>2-way</td>\n",
       "      <td>Sealed</td>\n",
       "      <td>0.0</td>\n",
       "      <td>0.0</td>\n",
       "      <td>0.0</td>\n",
       "      <td>0.0</td>\n",
       "      <td>50.0</td>\n",
       "      <td>0.0</td>\n",
       "      <td>None</td>\n",
       "      <td>0.0</td>\n",
       "      <td>0.0</td>\n",
       "      <td>Auckland</td>\n",
       "      <td>Nil</td>\n",
       "      <td>0.0</td>\n",
       "      <td>0.0</td>\n",
       "      <td>0.0</td>\n",
       "      <td>0.0</td>\n",
       "      <td>0.0</td>\n",
       "      <td>0.0</td>\n",
       "      <td>Urban</td>\n",
       "      <td>0.0</td>\n",
       "      <td>0.0</td>\n",
       "      <td>0.0</td>\n",
       "      <td>Light rain</td>\n",
       "    </tr>\n",
       "    <tr>\n",
       "      <th>4</th>\n",
       "      <td>4</td>\n",
       "      <td>1761364.0</td>\n",
       "      <td>5914259.0</td>\n",
       "      <td>0.0</td>\n",
       "      <td>0.0</td>\n",
       "      <td>0.0</td>\n",
       "      <td>2.0</td>\n",
       "      <td>0.0</td>\n",
       "      <td>None</td>\n",
       "      <td>2017/2018</td>\n",
       "      <td>PENROSE INT</td>\n",
       "      <td>GT SOUTH LINK</td>\n",
       "      <td>Non-Injury Crash</td>\n",
       "      <td>No</td>\n",
       "      <td>2018</td>\n",
       "      <td>0.0</td>\n",
       "      <td>North</td>\n",
       "      <td>0.0</td>\n",
       "      <td>0.0</td>\n",
       "      <td>0.0</td>\n",
       "      <td>Flat</td>\n",
       "      <td>0.0</td>\n",
       "      <td>0.0</td>\n",
       "      <td>0.0</td>\n",
       "      <td>Overcast</td>\n",
       "      <td>0.0</td>\n",
       "      <td>0.0</td>\n",
       "      <td>0.0</td>\n",
       "      <td>2.0</td>\n",
       "      <td>0.0</td>\n",
       "      <td>0.0</td>\n",
       "      <td>0.0</td>\n",
       "      <td>0.0</td>\n",
       "      <td>0.0</td>\n",
       "      <td>0.0</td>\n",
       "      <td>0.0</td>\n",
       "      <td>Auckland Region</td>\n",
       "      <td>Motorway ramp</td>\n",
       "      <td>1-way</td>\n",
       "      <td>Sealed</td>\n",
       "      <td>0.0</td>\n",
       "      <td>0.0</td>\n",
       "      <td>0.0</td>\n",
       "      <td>0.0</td>\n",
       "      <td>50.0</td>\n",
       "      <td>0.0</td>\n",
       "      <td>None</td>\n",
       "      <td>0.0</td>\n",
       "      <td>0.0</td>\n",
       "      <td>Auckland</td>\n",
       "      <td>Give way</td>\n",
       "      <td>0.0</td>\n",
       "      <td>0.0</td>\n",
       "      <td>0.0</td>\n",
       "      <td>0.0</td>\n",
       "      <td>0.0</td>\n",
       "      <td>0.0</td>\n",
       "      <td>Urban</td>\n",
       "      <td>0.0</td>\n",
       "      <td>0.0</td>\n",
       "      <td>0.0</td>\n",
       "      <td>Fine</td>\n",
       "    </tr>\n",
       "  </tbody>\n",
       "</table>\n",
       "</div>"
      ],
      "text/plain": [
       "   Unnamed: 0          X          Y  bicycle  bridge  bus  carStationWagon  \\\n",
       "0           0  1772561.0  5896382.0      0.0     0.0  0.0              1.0   \n",
       "1           1  1836757.0  5859311.0      0.0     0.0  0.0              2.0   \n",
       "2           2  1762088.0  5912507.0      0.0     0.0  0.0              1.0   \n",
       "3           3  1753522.0  5911939.0      0.0     0.0  0.0              2.0   \n",
       "4           4  1761364.0  5914259.0      0.0     0.0  0.0              2.0   \n",
       "\n",
       "   cliffBank crashDirectionDescription crashFinancialYear crashLocation1  \\\n",
       "0        0.0                      None          2007/2008        EAST ST   \n",
       "1        0.0                      None          2002/2003           SH 2   \n",
       "2        0.0                      West          2009/2010      CHURCH ST   \n",
       "3        0.0                      None          2017/2018     THE AVENUE   \n",
       "4        0.0                      None          2017/2018    PENROSE INT   \n",
       "\n",
       "        crashLocation2     crashSeverity crashSHDescription  crashYear  \\\n",
       "0            ELLIOT ST  Non-Injury Crash                 No       2007   \n",
       "1                SH 26  Non-Injury Crash                Yes       2003   \n",
       "2  HUGO JOHNSTON DRIVE  Non-Injury Crash                 No       2010   \n",
       "3            ACCESSWAY       Minor Crash                 No       2017   \n",
       "4        GT SOUTH LINK  Non-Injury Crash                 No       2018   \n",
       "\n",
       "   debris directionRoleDescription  ditch  fatalCount  fence   flatHill  \\\n",
       "0     0.0                    North    0.0         0.0    0.0       Flat   \n",
       "1     0.0                    North    0.0         0.0    0.0       Flat   \n",
       "2     0.0                     East    0.0         0.0    0.0       Flat   \n",
       "3     0.0                    North    0.0         0.0    0.0  Hill Road   \n",
       "4     0.0                    North    0.0         0.0    0.0       Flat   \n",
       "\n",
       "   guardRail  houseOrBuilding  kerb       light  minorInjuryCount  moped  \\\n",
       "0        0.0              0.0   0.0        Dark               0.0    0.0   \n",
       "1        0.0              0.0   0.0        Dark               0.0    0.0   \n",
       "2        0.0              0.0   0.0  Bright sun               0.0    0.0   \n",
       "3        0.0              0.0   0.0    Overcast               1.0    0.0   \n",
       "4        0.0              0.0   0.0    Overcast               0.0    0.0   \n",
       "\n",
       "   motorcycle  NumberOfLanes  objectThrownOrDropped  otherObject  \\\n",
       "0         0.0            2.0                    0.0          0.0   \n",
       "1         0.0            2.0                    0.0          0.0   \n",
       "2         0.0            2.0                    0.0          0.0   \n",
       "3         0.0            2.0                    0.0          0.0   \n",
       "4         0.0            2.0                    0.0          0.0   \n",
       "\n",
       "   otherVehicleType  overBank  parkedVehicle  phoneBoxEtc  postOrPole  \\\n",
       "0               0.0       0.0            0.0          0.0         0.0   \n",
       "1               0.0       0.0            0.0          0.0         0.0   \n",
       "2               0.0       0.0            0.0          0.0         0.0   \n",
       "3               0.0       0.0            0.0          0.0         0.0   \n",
       "4               0.0       0.0            0.0          0.0         0.0   \n",
       "\n",
       "            region  roadCharacter roadLane roadSurface  roadworks  schoolBus  \\\n",
       "0  Auckland Region            Nil    2-way      Sealed        0.0        0.0   \n",
       "1   Waikato Region            Nil    2-way      Sealed        0.0        0.0   \n",
       "2  Auckland Region            Nil    2-way      Sealed        0.0        0.0   \n",
       "3  Auckland Region            Nil    2-way      Sealed        0.0        0.0   \n",
       "4  Auckland Region  Motorway ramp    1-way      Sealed        0.0        0.0   \n",
       "\n",
       "   seriousInjuryCount  slipOrFlood  speedLimit  strayAnimal streetLight  suv  \\\n",
       "0                 0.0          0.0        50.0          0.0          On  1.0   \n",
       "1                 0.0          0.0        50.0          0.0          On  0.0   \n",
       "2                 0.0          0.0        50.0          0.0         Off  0.0   \n",
       "3                 0.0          0.0        50.0          0.0        None  0.0   \n",
       "4                 0.0          0.0        50.0          0.0        None  0.0   \n",
       "\n",
       "   taxi           tlaName   trafficControl  trafficIsland  trafficSign  train  \\\n",
       "0   0.0          Auckland  Traffic Signals            0.0          0.0    0.0   \n",
       "1   0.0  Hauraki District         Give way            0.0          0.0    0.0   \n",
       "2   0.0          Auckland  Traffic Signals            0.0          0.0    0.0   \n",
       "3   0.0          Auckland              Nil            0.0          0.0    0.0   \n",
       "4   0.0          Auckland         Give way            0.0          0.0    0.0   \n",
       "\n",
       "   tree  truck  unknownVehicleType  urban  vanOrUtility  vehicle  waterRiver  \\\n",
       "0   0.0    0.0                 0.0  Urban           0.0      0.0         0.0   \n",
       "1   0.0    0.0                 0.0  Urban           0.0      0.0         0.0   \n",
       "2   0.0    0.0                 0.0  Urban           1.0      0.0         0.0   \n",
       "3   0.0    0.0                 0.0  Urban           0.0      0.0         0.0   \n",
       "4   0.0    0.0                 0.0  Urban           0.0      0.0         0.0   \n",
       "\n",
       "     weatherA  \n",
       "0        Fine  \n",
       "1        Fine  \n",
       "2        Fine  \n",
       "3  Light rain  \n",
       "4        Fine  "
      ]
     },
     "execution_count": 4,
     "metadata": {},
     "output_type": "execute_result"
    }
   ],
   "source": [
    "df = pd.read_csv('CAS_modified .csv')\n",
    "pd.set_option('display.max_columns',None)\n",
    "df.head()"
   ]
  },
  {
   "cell_type": "code",
   "execution_count": null,
   "metadata": {
    "execution": {
     "iopub.execute_input": "2022-04-04T06:36:17.634223Z",
     "iopub.status.busy": "2022-04-04T06:36:17.633947Z",
     "iopub.status.idle": "2022-04-04T06:36:17.641044Z",
     "shell.execute_reply": "2022-04-04T06:36:17.639788Z",
     "shell.execute_reply.started": "2022-04-04T06:36:17.634190Z"
    }
   },
   "outputs": [],
   "source": [
    "#print(train_data.shape)\n",
    "#print(test_data.shape)"
   ]
  },
  {
   "cell_type": "code",
   "execution_count": 22,
   "metadata": {},
   "outputs": [],
   "source": [
    "df['seriousInjuryCount'] = df.apply(\n",
    "    lambda row: 5 if row['seriousInjuryCount'] >=4 else row['seriousInjuryCount'] ,\n",
    "    axis=1\n",
    ")"
   ]
  },
  {
   "cell_type": "code",
   "execution_count": 23,
   "metadata": {
    "execution": {
     "iopub.execute_input": "2022-04-04T06:36:17.365064Z",
     "iopub.status.busy": "2022-04-04T06:36:17.364562Z",
     "iopub.status.idle": "2022-04-04T06:36:17.629425Z",
     "shell.execute_reply": "2022-04-04T06:36:17.628361Z",
     "shell.execute_reply.started": "2022-04-04T06:36:17.365017Z"
    }
   },
   "outputs": [],
   "source": [
    "np.random.seed(99)\n",
    "mask = np.random.rand(len(df)) <= 0.8\n",
    "train_data = df[mask]\n",
    "test_data = df[~mask]"
   ]
  },
  {
   "cell_type": "code",
   "execution_count": 24,
   "metadata": {},
   "outputs": [
    {
     "data": {
      "text/plain": [
       "0.0    730095\n",
       "1.0     40297\n",
       "2.0      4349\n",
       "3.0       865\n",
       "5.0       385\n",
       "Name: seriousInjuryCount, dtype: int64"
      ]
     },
     "execution_count": 24,
     "metadata": {},
     "output_type": "execute_result"
    }
   ],
   "source": [
    "df['seriousInjuryCount'].value_counts()"
   ]
  },
  {
   "cell_type": "code",
   "execution_count": 25,
   "metadata": {},
   "outputs": [],
   "source": [
    "formula = \"seriousInjuryCount ~ bicycle+bridge+bus+carStationWagon+cliffBank+debris+ditch+fence+flatHill+guardRail+houseOrBuilding+kerb+light+moped+motorcycle+NumberOfLanes+objectThrownOrDropped+otherObject+otherVehicleType+overBank+parkedVehicle+postOrPole+roadLane+roadSurface+roadworks+schoolBus+slipOrFlood+speedLimit+strayAnimal+streetLight+suv+taxi+trafficIsland+trafficSign+train+tree+truck+unknownVehicleType+urban+vanOrUtility+vehicle+waterRiver+weatherA\"\n",
    "y, X = dmatrices(formula, df, return_type='dataframe')"
   ]
  },
  {
   "cell_type": "code",
   "execution_count": 26,
   "metadata": {},
   "outputs": [],
   "source": [
    "from sklearn.model_selection import train_test_split\n",
    "from sklearn.feature_selection import SelectKBest, chi2, f_classif\n",
    "from sklearn.metrics import confusion_matrix,accuracy_score,classification_report, f1_score"
   ]
  },
  {
   "cell_type": "code",
   "execution_count": 27,
   "metadata": {},
   "outputs": [],
   "source": [
    "def plot_confusion_matrix(y_true: np.ndarray, y_hat: np.ndarray, figsize = (20, 15)):\n",
    "    # Getting labels\n",
    "    labels = sorted(list(set(y_true)))\n",
    "    \n",
    "    # Creating confusion matrix\n",
    "    df = pd.DataFrame(confusion_matrix(y_true, y_hat), index = labels, columns = labels)\n",
    "    \n",
    "    # Accuracy and F1-score\n",
    "    acc = accuracy_score(y_true, y_hat)\n",
    "    f1s = f1_score(y_true, y_hat, average = 'weighted')\n",
    "    \n",
    "    # Ploting Confusin matrix\n",
    "    fig, ax = plt.subplots(figsize = figsize)\n",
    "    sns.heatmap(df, annot = True, square = True, fmt = 'd', linewidths = 1,cbar = False, cmap = 'Paired', ax = ax)\n",
    "    ax.set(title = f'Accuracy: {acc:.2f}, F1 score: {f1s:.2f}', xlabel = 'Predicted', ylabel = 'Actual')\n",
    "    fig.suptitle('Confusion Matrix')\n",
    "    plt.tight_layout()"
   ]
  },
  {
   "cell_type": "code",
   "execution_count": 32,
   "metadata": {},
   "outputs": [
    {
     "name": "stdout",
     "output_type": "stream",
     "text": [
      "Train shape: (1788916, 58)\n",
      "Test shape: (766679, 58)\n"
     ]
    }
   ],
   "source": [
    "X_train, X_test, y_train, y_test = train_test_split(x,Y,test_size = .3, random_state = 42)\n",
    "\n",
    "print('Train shape:', X_train.shape)\n",
    "print('Test shape:', X_test.shape)"
   ]
  },
  {
   "cell_type": "code",
   "execution_count": null,
   "metadata": {},
   "outputs": [],
   "source": [
    "X_train.head()"
   ]
  },
  {
   "cell_type": "code",
   "execution_count": null,
   "metadata": {
    "scrolled": true
   },
   "outputs": [],
   "source": [
    "y_train.seriousInjuryCount.value_counts()"
   ]
  },
  {
   "cell_type": "code",
   "execution_count": null,
   "metadata": {},
   "outputs": [],
   "source": [
    "import matplotlib.pyplot as plt\n",
    "plt.hist(y_train.seriousInjuryCount)\n",
    "plt.show()"
   ]
  },
  {
   "cell_type": "code",
   "execution_count": 33,
   "metadata": {},
   "outputs": [],
   "source": [
    "from sklearn.linear_model import LogisticRegression\n",
    "import warnings\n",
    "warnings.filterwarnings(\"ignore\")\n",
    "\n",
    "#logg = LogisticRegression()\n",
    "#logg.fit(X_train,y_train)\n"
   ]
  },
  {
   "cell_type": "code",
   "execution_count": 34,
   "metadata": {},
   "outputs": [
    {
     "name": "stdout",
     "output_type": "stream",
     "text": [
      "Wall time: 0 ns\n"
     ]
    }
   ],
   "source": [
    "%%time\n",
    "from numpy import mean\n",
    "from numpy import std\n",
    "from sklearn.model_selection import cross_val_score\n",
    "from sklearn.model_selection import RepeatedStratifiedKFold\n",
    "from sklearn.linear_model import LogisticRegression\n",
    "# define the multinomial logistic regression model\n",
    "model = LogisticRegression(multi_class='multinomial', solver='lbfgs')\n",
    "# define the model evaluation procedure\n",
    "#cv = RepeatedStratifiedKFold(n_splits=10, n_repeats=3, random_state=1)\n",
    "# evaluate the model and collect the scores\n",
    "#n_scores = cross_val_score(model, x, Y, scoring='accuracy', cv=cv, n_jobs=-1)\n",
    "# report the model performance\n",
    "#print('Mean Accuracy: %.3f (%.3f)' % (mean(n_scores), std(n_scores)))"
   ]
  },
  {
   "cell_type": "code",
   "execution_count": 35,
   "metadata": {},
   "outputs": [],
   "source": [
    "model.fit(X_train,y_train)\n",
    "y_pred = model.predict(X_test)"
   ]
  },
  {
   "cell_type": "code",
   "execution_count": 38,
   "metadata": {},
   "outputs": [
    {
     "name": "stdout",
     "output_type": "stream",
     "text": [
      "Accuracy of logistic regression classifier on test set: 0.38\n"
     ]
    }
   ],
   "source": [
    "print('Accuracy of logistic regression classifier on test set: {:.2f}'.format(model.score(X_test, y_test)))"
   ]
  },
  {
   "cell_type": "code",
   "execution_count": 40,
   "metadata": {},
   "outputs": [
    {
     "data": {
      "text/plain": [
       "array([5., 5., 5., ..., 0., 5., 5.])"
      ]
     },
     "execution_count": 40,
     "metadata": {},
     "output_type": "execute_result"
    }
   ],
   "source": []
  },
  {
   "cell_type": "code",
   "execution_count": null,
   "metadata": {},
   "outputs": [],
   "source": [
    "y_pred1 = model.predict(X_train)\n",
    "y_pred1.sum()"
   ]
  },
  {
   "cell_type": "markdown",
   "metadata": {},
   "source": [
    "## Cross Validation"
   ]
  },
  {
   "cell_type": "code",
   "execution_count": null,
   "metadata": {},
   "outputs": [],
   "source": [
    "from sklearn import model_selection\n",
    "from sklearn.model_selection import cross_val_score\n",
    "kfold = model_selection.KFold(n_splits=10)\n",
    "modelCV = LogisticRegression()\n",
    "scoring = 'accuracy'\n",
    "results = model_selection.cross_val_score(modelCV, X_train, y_train, cv=kfold, scoring=scoring)\n",
    "print(\"10-fold cross validation average accuracy: %.3f\" % (results.mean()))"
   ]
  },
  {
   "cell_type": "code",
   "execution_count": null,
   "metadata": {},
   "outputs": [],
   "source": [
    "clf.predict_proba(X_train)"
   ]
  },
  {
   "cell_type": "code",
   "execution_count": null,
   "metadata": {},
   "outputs": [],
   "source": [
    "pip install imbalanced-learn"
   ]
  },
  {
   "cell_type": "code",
   "execution_count": null,
   "metadata": {},
   "outputs": [],
   "source": [
    "pip install imblearn\n"
   ]
  },
  {
   "cell_type": "code",
   "execution_count": 21,
   "metadata": {},
   "outputs": [
    {
     "data": {
      "text/plain": [
       "0.0     730095\n",
       "1.0      40297\n",
       "2.0       4349\n",
       "3.0        865\n",
       "4.0        259\n",
       "5.0         81\n",
       "6.0         26\n",
       "7.0          8\n",
       "8.0          5\n",
       "10.0         3\n",
       "12.0         1\n",
       "9.0          1\n",
       "14.0         1\n",
       "Name: seriousInjuryCount, dtype: int64"
      ]
     },
     "execution_count": 21,
     "metadata": {},
     "output_type": "execute_result"
    }
   ],
   "source": [
    "y.seriousInjuryCount.value_counts()"
   ]
  },
  {
   "cell_type": "code",
   "execution_count": 29,
   "metadata": {},
   "outputs": [],
   "source": [
    "from imblearn.over_sampling import SMOTE\n",
    "from imblearn.under_sampling import RandomUnderSampler\n",
    "from imblearn.pipeline import Pipeline\n",
    "from collections import Counter"
   ]
  },
  {
   "cell_type": "code",
   "execution_count": 30,
   "metadata": {},
   "outputs": [
    {
     "name": "stderr",
     "output_type": "stream",
     "text": [
      "C:\\Users\\msc2\\anaconda3\\lib\\site-packages\\imblearn\\utils\\_validation.py:586: FutureWarning: Pass sampling_strategy=not majority as keyword args. From version 0.9 passing these as positional arguments will result in an error\n",
      "  warnings.warn(\n"
     ]
    }
   ],
   "source": [
    "smote=SMOTE('not majority', k_neighbors=3)\n",
    "x,Y=smote.fit_resample(X_train,y_train)"
   ]
  },
  {
   "cell_type": "code",
   "execution_count": 31,
   "metadata": {
    "scrolled": true
   },
   "outputs": [
    {
     "data": {
      "text/plain": [
       "seriousInjuryCount\n",
       "0.0                   511119\n",
       "1.0                   511119\n",
       "2.0                   511119\n",
       "3.0                   511119\n",
       "5.0                   511119\n",
       "dtype: int64"
      ]
     },
     "execution_count": 31,
     "metadata": {},
     "output_type": "execute_result"
    }
   ],
   "source": [
    "Y.value_counts()"
   ]
  },
  {
   "cell_type": "code",
   "execution_count": null,
   "metadata": {},
   "outputs": [],
   "source": [
    "#flatHill[T.Hill Road],light[T.Dark],light[T.Overcast],region[T.Bay of Plenty Region],region[T.Canterbury Region],region[T.Hawke's Bay Region],region[T.Canterbury Region],region[T.Northland Region],roadCharacter[T.Motorway ramp],"
   ]
  },
  {
   "cell_type": "markdown",
   "metadata": {},
   "source": [
    "### Poisson GLM Regression"
   ]
  },
  {
   "cell_type": "code",
   "execution_count": null,
   "metadata": {
    "execution": {
     "iopub.execute_input": "2022-04-04T06:36:17.643749Z",
     "iopub.status.busy": "2022-04-04T06:36:17.643446Z",
     "iopub.status.idle": "2022-04-04T06:37:04.191494Z",
     "shell.execute_reply": "2022-04-04T06:37:04.190200Z",
     "shell.execute_reply.started": "2022-04-04T06:36:17.643714Z"
    }
   },
   "outputs": [],
   "source": [
    "formula = \"seriousInjuryCount ~ bicycle+bridge+bus+carStationWagon+cliffBank+crashYear+debris+ditch+fence+flatHill+guardRail+houseOrBuilding+kerb+light+moped+motorcycle+NumberOfLanes+objectThrownOrDropped+otherObject+otherVehicleType+overBank+parkedVehicle+postOrPole+roadLane+roadworks+schoolBus+slipOrFlood+speedLimit+strayAnimal+streetLight+suv+taxi+trafficControl+trafficIsland+trafficSign+train+tree+truck+unknownVehicleType+urban+vanOrUtility+vehicle+waterRiver+weatherA\"\n",
    "y_train, X_train = dmatrices(formula, train_data, return_type='dataframe')\n",
    "y_test, X_test = dmatrices(formula, test_data, return_type='dataframe')"
   ]
  },
  {
   "cell_type": "code",
   "execution_count": null,
   "metadata": {
    "execution": {
     "iopub.execute_input": "2022-04-04T06:37:04.193542Z",
     "iopub.status.busy": "2022-04-04T06:37:04.193167Z"
    }
   },
   "outputs": [],
   "source": [
    "model_poisson = sm.GLM(y_train, X_train,family=sm.families.Poisson(link=sm.families.links.log())).fit()"
   ]
  },
  {
   "cell_type": "code",
   "execution_count": null,
   "metadata": {},
   "outputs": [],
   "source": [
    "model_poisson.summary2()"
   ]
  },
  {
   "cell_type": "code",
   "execution_count": null,
   "metadata": {},
   "outputs": [],
   "source": [
    "ypred = model_poisson.predict(X_train)\n",
    "rmse = np.sqrt(mean_squared_error(y_train,ypred))\n",
    "rmse"
   ]
  },
  {
   "cell_type": "code",
   "execution_count": null,
   "metadata": {},
   "outputs": [],
   "source": [
    "rmse/(-y_train.min()+y_train.max())"
   ]
  },
  {
   "cell_type": "code",
   "execution_count": null,
   "metadata": {},
   "outputs": [],
   "source": [
    "ypred = model_poisson.predict(X_test)\n",
    "rmse = np.sqrt(mean_squared_error(y_test,ypred))\n",
    "rmse"
   ]
  },
  {
   "cell_type": "code",
   "execution_count": null,
   "metadata": {},
   "outputs": [],
   "source": [
    "def calculate_residuals(model, features, label):\n",
    "    predictions = model.predict(features)\n",
    "    df_results = pd.DataFrame({'Actual': label.squeeze(1), 'Predicted': predictions})\n",
    "    df_results['Residuals'] = abs(df_results['Actual']) - abs(df_results['Predicted'])\n",
    "    df_results['Residuals_per'] = (abs(df_results['Actual']) - abs(df_results['Predicted']))/df_results['Actual']\n",
    "    \n",
    "    return df_results"
   ]
  },
  {
   "cell_type": "code",
   "execution_count": null,
   "metadata": {},
   "outputs": [],
   "source": [
    "df_results = calculate_residuals(model_poisson,X_train,y_train)\n",
    "df_results.tail()"
   ]
  },
  {
   "cell_type": "code",
   "execution_count": null,
   "metadata": {},
   "outputs": [],
   "source": [
    "#pip install git+https://github.com/madrury/py-glm.git"
   ]
  },
  {
   "cell_type": "code",
   "execution_count": null,
   "metadata": {},
   "outputs": [],
   "source": [
    "y_train.seriousInjuryCount.value_counts()"
   ]
  },
  {
   "cell_type": "code",
   "execution_count": null,
   "metadata": {},
   "outputs": [],
   "source": [
    "pd.Series(np.round(df_results.Predicted)).value_counts()"
   ]
  }
 ],
 "metadata": {
  "kernelspec": {
   "display_name": "Python 3 (ipykernel)",
   "language": "python",
   "name": "python3"
  },
  "language_info": {
   "codemirror_mode": {
    "name": "ipython",
    "version": 3
   },
   "file_extension": ".py",
   "mimetype": "text/x-python",
   "name": "python",
   "nbconvert_exporter": "python",
   "pygments_lexer": "ipython3",
   "version": "3.9.7"
  }
 },
 "nbformat": 4,
 "nbformat_minor": 4
}
