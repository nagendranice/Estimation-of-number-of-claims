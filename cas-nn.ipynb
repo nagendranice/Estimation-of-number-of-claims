{
 "cells": [
  {
   "cell_type": "code",
   "execution_count": 21,
   "metadata": {
    "_cell_guid": "b1076dfc-b9ad-4769-8c92-a6c4dae69d19",
    "_uuid": "8f2839f25d086af736a60e9eeb907d3b93b6e0e5",
    "execution": {
     "iopub.execute_input": "2022-04-07T09:41:25.799257Z",
     "iopub.status.busy": "2022-04-07T09:41:25.799007Z",
     "iopub.status.idle": "2022-04-07T09:41:25.803235Z",
     "shell.execute_reply": "2022-04-07T09:41:25.802290Z",
     "shell.execute_reply.started": "2022-04-07T09:41:25.799230Z"
    }
   },
   "outputs": [],
   "source": [
    "# This Python 3 environment comes with many helpful analytics libraries installed\n",
    "# It is defined by the kaggle/python Docker image: https://github.com/kaggle/docker-python\n",
    "# For example, here's several helpful packages to load\n",
    "\n",
    "import numpy as np # linear algebra\n",
    "import pandas as pd # data processing, CSV file I/O (e.g. pd.read_csv)"
   ]
  },
  {
   "cell_type": "code",
   "execution_count": 22,
   "metadata": {
    "execution": {
     "iopub.execute_input": "2022-04-07T09:41:25.821132Z",
     "iopub.status.busy": "2022-04-07T09:41:25.820842Z",
     "iopub.status.idle": "2022-04-07T09:41:32.572055Z",
     "shell.execute_reply": "2022-04-07T09:41:32.571354Z",
     "shell.execute_reply.started": "2022-04-07T09:41:25.821104Z"
    }
   },
   "outputs": [
    {
     "data": {
      "text/html": [
       "<div>\n",
       "<style scoped>\n",
       "    .dataframe tbody tr th:only-of-type {\n",
       "        vertical-align: middle;\n",
       "    }\n",
       "\n",
       "    .dataframe tbody tr th {\n",
       "        vertical-align: top;\n",
       "    }\n",
       "\n",
       "    .dataframe thead th {\n",
       "        text-align: right;\n",
       "    }\n",
       "</style>\n",
       "<table border=\"1\" class=\"dataframe\">\n",
       "  <thead>\n",
       "    <tr style=\"text-align: right;\">\n",
       "      <th></th>\n",
       "      <th>Unnamed: 0</th>\n",
       "      <th>X</th>\n",
       "      <th>Y</th>\n",
       "      <th>bicycle</th>\n",
       "      <th>bridge</th>\n",
       "      <th>bus</th>\n",
       "      <th>carStationWagon</th>\n",
       "      <th>cliffBank</th>\n",
       "      <th>crashDirectionDescription</th>\n",
       "      <th>crashFinancialYear</th>\n",
       "      <th>crashLocation1</th>\n",
       "      <th>crashLocation2</th>\n",
       "      <th>crashSeverity</th>\n",
       "      <th>crashSHDescription</th>\n",
       "      <th>crashYear</th>\n",
       "      <th>debris</th>\n",
       "      <th>directionRoleDescription</th>\n",
       "      <th>ditch</th>\n",
       "      <th>fatalCount</th>\n",
       "      <th>fence</th>\n",
       "      <th>flatHill</th>\n",
       "      <th>guardRail</th>\n",
       "      <th>houseOrBuilding</th>\n",
       "      <th>kerb</th>\n",
       "      <th>light</th>\n",
       "      <th>minorInjuryCount</th>\n",
       "      <th>moped</th>\n",
       "      <th>motorcycle</th>\n",
       "      <th>NumberOfLanes</th>\n",
       "      <th>objectThrownOrDropped</th>\n",
       "      <th>otherObject</th>\n",
       "      <th>otherVehicleType</th>\n",
       "      <th>overBank</th>\n",
       "      <th>parkedVehicle</th>\n",
       "      <th>phoneBoxEtc</th>\n",
       "      <th>postOrPole</th>\n",
       "      <th>region</th>\n",
       "      <th>roadCharacter</th>\n",
       "      <th>roadLane</th>\n",
       "      <th>roadSurface</th>\n",
       "      <th>roadworks</th>\n",
       "      <th>schoolBus</th>\n",
       "      <th>seriousInjuryCount</th>\n",
       "      <th>slipOrFlood</th>\n",
       "      <th>speedLimit</th>\n",
       "      <th>strayAnimal</th>\n",
       "      <th>streetLight</th>\n",
       "      <th>suv</th>\n",
       "      <th>taxi</th>\n",
       "      <th>tlaName</th>\n",
       "      <th>trafficControl</th>\n",
       "      <th>trafficIsland</th>\n",
       "      <th>trafficSign</th>\n",
       "      <th>train</th>\n",
       "      <th>tree</th>\n",
       "      <th>truck</th>\n",
       "      <th>unknownVehicleType</th>\n",
       "      <th>urban</th>\n",
       "      <th>vanOrUtility</th>\n",
       "      <th>vehicle</th>\n",
       "      <th>waterRiver</th>\n",
       "      <th>weatherA</th>\n",
       "    </tr>\n",
       "  </thead>\n",
       "  <tbody>\n",
       "    <tr>\n",
       "      <th>0</th>\n",
       "      <td>0</td>\n",
       "      <td>1772561.0</td>\n",
       "      <td>5896382.0</td>\n",
       "      <td>0.0</td>\n",
       "      <td>0.0</td>\n",
       "      <td>0.0</td>\n",
       "      <td>1.0</td>\n",
       "      <td>0.0</td>\n",
       "      <td>None</td>\n",
       "      <td>2007/2008</td>\n",
       "      <td>EAST ST</td>\n",
       "      <td>ELLIOT ST</td>\n",
       "      <td>Non-Injury Crash</td>\n",
       "      <td>No</td>\n",
       "      <td>2007</td>\n",
       "      <td>0.0</td>\n",
       "      <td>North</td>\n",
       "      <td>0.0</td>\n",
       "      <td>0.0</td>\n",
       "      <td>0.0</td>\n",
       "      <td>Flat</td>\n",
       "      <td>0.0</td>\n",
       "      <td>0.0</td>\n",
       "      <td>0.0</td>\n",
       "      <td>Dark</td>\n",
       "      <td>0.0</td>\n",
       "      <td>0.0</td>\n",
       "      <td>0.0</td>\n",
       "      <td>2.0</td>\n",
       "      <td>0.0</td>\n",
       "      <td>0.0</td>\n",
       "      <td>0.0</td>\n",
       "      <td>0.0</td>\n",
       "      <td>0.0</td>\n",
       "      <td>0.0</td>\n",
       "      <td>0.0</td>\n",
       "      <td>Auckland Region</td>\n",
       "      <td>Nil</td>\n",
       "      <td>2-way</td>\n",
       "      <td>Sealed</td>\n",
       "      <td>0.0</td>\n",
       "      <td>0.0</td>\n",
       "      <td>0.0</td>\n",
       "      <td>0.0</td>\n",
       "      <td>50.0</td>\n",
       "      <td>0.0</td>\n",
       "      <td>On</td>\n",
       "      <td>1.0</td>\n",
       "      <td>0.0</td>\n",
       "      <td>Auckland</td>\n",
       "      <td>Traffic Signals</td>\n",
       "      <td>0.0</td>\n",
       "      <td>0.0</td>\n",
       "      <td>0.0</td>\n",
       "      <td>0.0</td>\n",
       "      <td>0.0</td>\n",
       "      <td>0.0</td>\n",
       "      <td>Urban</td>\n",
       "      <td>0.0</td>\n",
       "      <td>0.0</td>\n",
       "      <td>0.0</td>\n",
       "      <td>Fine</td>\n",
       "    </tr>\n",
       "    <tr>\n",
       "      <th>1</th>\n",
       "      <td>1</td>\n",
       "      <td>1836757.0</td>\n",
       "      <td>5859311.0</td>\n",
       "      <td>0.0</td>\n",
       "      <td>0.0</td>\n",
       "      <td>0.0</td>\n",
       "      <td>2.0</td>\n",
       "      <td>0.0</td>\n",
       "      <td>None</td>\n",
       "      <td>2002/2003</td>\n",
       "      <td>SH 2</td>\n",
       "      <td>SH 26</td>\n",
       "      <td>Non-Injury Crash</td>\n",
       "      <td>Yes</td>\n",
       "      <td>2003</td>\n",
       "      <td>0.0</td>\n",
       "      <td>North</td>\n",
       "      <td>0.0</td>\n",
       "      <td>0.0</td>\n",
       "      <td>0.0</td>\n",
       "      <td>Flat</td>\n",
       "      <td>0.0</td>\n",
       "      <td>0.0</td>\n",
       "      <td>0.0</td>\n",
       "      <td>Dark</td>\n",
       "      <td>0.0</td>\n",
       "      <td>0.0</td>\n",
       "      <td>0.0</td>\n",
       "      <td>2.0</td>\n",
       "      <td>0.0</td>\n",
       "      <td>0.0</td>\n",
       "      <td>0.0</td>\n",
       "      <td>0.0</td>\n",
       "      <td>0.0</td>\n",
       "      <td>0.0</td>\n",
       "      <td>0.0</td>\n",
       "      <td>Waikato Region</td>\n",
       "      <td>Nil</td>\n",
       "      <td>2-way</td>\n",
       "      <td>Sealed</td>\n",
       "      <td>0.0</td>\n",
       "      <td>0.0</td>\n",
       "      <td>0.0</td>\n",
       "      <td>0.0</td>\n",
       "      <td>50.0</td>\n",
       "      <td>0.0</td>\n",
       "      <td>On</td>\n",
       "      <td>0.0</td>\n",
       "      <td>0.0</td>\n",
       "      <td>Hauraki District</td>\n",
       "      <td>Give way</td>\n",
       "      <td>0.0</td>\n",
       "      <td>0.0</td>\n",
       "      <td>0.0</td>\n",
       "      <td>0.0</td>\n",
       "      <td>0.0</td>\n",
       "      <td>0.0</td>\n",
       "      <td>Urban</td>\n",
       "      <td>0.0</td>\n",
       "      <td>0.0</td>\n",
       "      <td>0.0</td>\n",
       "      <td>Fine</td>\n",
       "    </tr>\n",
       "    <tr>\n",
       "      <th>2</th>\n",
       "      <td>2</td>\n",
       "      <td>1762088.0</td>\n",
       "      <td>5912507.0</td>\n",
       "      <td>0.0</td>\n",
       "      <td>0.0</td>\n",
       "      <td>0.0</td>\n",
       "      <td>1.0</td>\n",
       "      <td>0.0</td>\n",
       "      <td>West</td>\n",
       "      <td>2009/2010</td>\n",
       "      <td>CHURCH ST</td>\n",
       "      <td>HUGO JOHNSTON DRIVE</td>\n",
       "      <td>Non-Injury Crash</td>\n",
       "      <td>No</td>\n",
       "      <td>2010</td>\n",
       "      <td>0.0</td>\n",
       "      <td>East</td>\n",
       "      <td>0.0</td>\n",
       "      <td>0.0</td>\n",
       "      <td>0.0</td>\n",
       "      <td>Flat</td>\n",
       "      <td>0.0</td>\n",
       "      <td>0.0</td>\n",
       "      <td>0.0</td>\n",
       "      <td>Bright sun</td>\n",
       "      <td>0.0</td>\n",
       "      <td>0.0</td>\n",
       "      <td>0.0</td>\n",
       "      <td>2.0</td>\n",
       "      <td>0.0</td>\n",
       "      <td>0.0</td>\n",
       "      <td>0.0</td>\n",
       "      <td>0.0</td>\n",
       "      <td>0.0</td>\n",
       "      <td>0.0</td>\n",
       "      <td>0.0</td>\n",
       "      <td>Auckland Region</td>\n",
       "      <td>Nil</td>\n",
       "      <td>2-way</td>\n",
       "      <td>Sealed</td>\n",
       "      <td>0.0</td>\n",
       "      <td>0.0</td>\n",
       "      <td>0.0</td>\n",
       "      <td>0.0</td>\n",
       "      <td>50.0</td>\n",
       "      <td>0.0</td>\n",
       "      <td>Off</td>\n",
       "      <td>0.0</td>\n",
       "      <td>0.0</td>\n",
       "      <td>Auckland</td>\n",
       "      <td>Traffic Signals</td>\n",
       "      <td>0.0</td>\n",
       "      <td>0.0</td>\n",
       "      <td>0.0</td>\n",
       "      <td>0.0</td>\n",
       "      <td>0.0</td>\n",
       "      <td>0.0</td>\n",
       "      <td>Urban</td>\n",
       "      <td>1.0</td>\n",
       "      <td>0.0</td>\n",
       "      <td>0.0</td>\n",
       "      <td>Fine</td>\n",
       "    </tr>\n",
       "    <tr>\n",
       "      <th>3</th>\n",
       "      <td>3</td>\n",
       "      <td>1753522.0</td>\n",
       "      <td>5911939.0</td>\n",
       "      <td>0.0</td>\n",
       "      <td>0.0</td>\n",
       "      <td>0.0</td>\n",
       "      <td>2.0</td>\n",
       "      <td>0.0</td>\n",
       "      <td>None</td>\n",
       "      <td>2017/2018</td>\n",
       "      <td>THE AVENUE</td>\n",
       "      <td>ACCESSWAY</td>\n",
       "      <td>Minor Crash</td>\n",
       "      <td>No</td>\n",
       "      <td>2017</td>\n",
       "      <td>0.0</td>\n",
       "      <td>North</td>\n",
       "      <td>0.0</td>\n",
       "      <td>0.0</td>\n",
       "      <td>0.0</td>\n",
       "      <td>Hill Road</td>\n",
       "      <td>0.0</td>\n",
       "      <td>0.0</td>\n",
       "      <td>0.0</td>\n",
       "      <td>Overcast</td>\n",
       "      <td>1.0</td>\n",
       "      <td>0.0</td>\n",
       "      <td>0.0</td>\n",
       "      <td>2.0</td>\n",
       "      <td>0.0</td>\n",
       "      <td>0.0</td>\n",
       "      <td>0.0</td>\n",
       "      <td>0.0</td>\n",
       "      <td>0.0</td>\n",
       "      <td>0.0</td>\n",
       "      <td>0.0</td>\n",
       "      <td>Auckland Region</td>\n",
       "      <td>Nil</td>\n",
       "      <td>2-way</td>\n",
       "      <td>Sealed</td>\n",
       "      <td>0.0</td>\n",
       "      <td>0.0</td>\n",
       "      <td>0.0</td>\n",
       "      <td>0.0</td>\n",
       "      <td>50.0</td>\n",
       "      <td>0.0</td>\n",
       "      <td>None</td>\n",
       "      <td>0.0</td>\n",
       "      <td>0.0</td>\n",
       "      <td>Auckland</td>\n",
       "      <td>Nil</td>\n",
       "      <td>0.0</td>\n",
       "      <td>0.0</td>\n",
       "      <td>0.0</td>\n",
       "      <td>0.0</td>\n",
       "      <td>0.0</td>\n",
       "      <td>0.0</td>\n",
       "      <td>Urban</td>\n",
       "      <td>0.0</td>\n",
       "      <td>0.0</td>\n",
       "      <td>0.0</td>\n",
       "      <td>Light rain</td>\n",
       "    </tr>\n",
       "    <tr>\n",
       "      <th>4</th>\n",
       "      <td>4</td>\n",
       "      <td>1761364.0</td>\n",
       "      <td>5914259.0</td>\n",
       "      <td>0.0</td>\n",
       "      <td>0.0</td>\n",
       "      <td>0.0</td>\n",
       "      <td>2.0</td>\n",
       "      <td>0.0</td>\n",
       "      <td>None</td>\n",
       "      <td>2017/2018</td>\n",
       "      <td>PENROSE INT</td>\n",
       "      <td>GT SOUTH LINK</td>\n",
       "      <td>Non-Injury Crash</td>\n",
       "      <td>No</td>\n",
       "      <td>2018</td>\n",
       "      <td>0.0</td>\n",
       "      <td>North</td>\n",
       "      <td>0.0</td>\n",
       "      <td>0.0</td>\n",
       "      <td>0.0</td>\n",
       "      <td>Flat</td>\n",
       "      <td>0.0</td>\n",
       "      <td>0.0</td>\n",
       "      <td>0.0</td>\n",
       "      <td>Overcast</td>\n",
       "      <td>0.0</td>\n",
       "      <td>0.0</td>\n",
       "      <td>0.0</td>\n",
       "      <td>2.0</td>\n",
       "      <td>0.0</td>\n",
       "      <td>0.0</td>\n",
       "      <td>0.0</td>\n",
       "      <td>0.0</td>\n",
       "      <td>0.0</td>\n",
       "      <td>0.0</td>\n",
       "      <td>0.0</td>\n",
       "      <td>Auckland Region</td>\n",
       "      <td>Motorway ramp</td>\n",
       "      <td>1-way</td>\n",
       "      <td>Sealed</td>\n",
       "      <td>0.0</td>\n",
       "      <td>0.0</td>\n",
       "      <td>0.0</td>\n",
       "      <td>0.0</td>\n",
       "      <td>50.0</td>\n",
       "      <td>0.0</td>\n",
       "      <td>None</td>\n",
       "      <td>0.0</td>\n",
       "      <td>0.0</td>\n",
       "      <td>Auckland</td>\n",
       "      <td>Give way</td>\n",
       "      <td>0.0</td>\n",
       "      <td>0.0</td>\n",
       "      <td>0.0</td>\n",
       "      <td>0.0</td>\n",
       "      <td>0.0</td>\n",
       "      <td>0.0</td>\n",
       "      <td>Urban</td>\n",
       "      <td>0.0</td>\n",
       "      <td>0.0</td>\n",
       "      <td>0.0</td>\n",
       "      <td>Fine</td>\n",
       "    </tr>\n",
       "  </tbody>\n",
       "</table>\n",
       "</div>"
      ],
      "text/plain": [
       "   Unnamed: 0          X          Y  bicycle  bridge  bus  carStationWagon  \\\n",
       "0           0  1772561.0  5896382.0      0.0     0.0  0.0              1.0   \n",
       "1           1  1836757.0  5859311.0      0.0     0.0  0.0              2.0   \n",
       "2           2  1762088.0  5912507.0      0.0     0.0  0.0              1.0   \n",
       "3           3  1753522.0  5911939.0      0.0     0.0  0.0              2.0   \n",
       "4           4  1761364.0  5914259.0      0.0     0.0  0.0              2.0   \n",
       "\n",
       "   cliffBank crashDirectionDescription crashFinancialYear crashLocation1  \\\n",
       "0        0.0                      None          2007/2008        EAST ST   \n",
       "1        0.0                      None          2002/2003           SH 2   \n",
       "2        0.0                      West          2009/2010      CHURCH ST   \n",
       "3        0.0                      None          2017/2018     THE AVENUE   \n",
       "4        0.0                      None          2017/2018    PENROSE INT   \n",
       "\n",
       "        crashLocation2     crashSeverity crashSHDescription  crashYear  \\\n",
       "0            ELLIOT ST  Non-Injury Crash                 No       2007   \n",
       "1                SH 26  Non-Injury Crash                Yes       2003   \n",
       "2  HUGO JOHNSTON DRIVE  Non-Injury Crash                 No       2010   \n",
       "3            ACCESSWAY       Minor Crash                 No       2017   \n",
       "4        GT SOUTH LINK  Non-Injury Crash                 No       2018   \n",
       "\n",
       "   debris directionRoleDescription  ditch  fatalCount  fence   flatHill  \\\n",
       "0     0.0                    North    0.0         0.0    0.0       Flat   \n",
       "1     0.0                    North    0.0         0.0    0.0       Flat   \n",
       "2     0.0                     East    0.0         0.0    0.0       Flat   \n",
       "3     0.0                    North    0.0         0.0    0.0  Hill Road   \n",
       "4     0.0                    North    0.0         0.0    0.0       Flat   \n",
       "\n",
       "   guardRail  houseOrBuilding  kerb       light  minorInjuryCount  moped  \\\n",
       "0        0.0              0.0   0.0        Dark               0.0    0.0   \n",
       "1        0.0              0.0   0.0        Dark               0.0    0.0   \n",
       "2        0.0              0.0   0.0  Bright sun               0.0    0.0   \n",
       "3        0.0              0.0   0.0    Overcast               1.0    0.0   \n",
       "4        0.0              0.0   0.0    Overcast               0.0    0.0   \n",
       "\n",
       "   motorcycle  NumberOfLanes  objectThrownOrDropped  otherObject  \\\n",
       "0         0.0            2.0                    0.0          0.0   \n",
       "1         0.0            2.0                    0.0          0.0   \n",
       "2         0.0            2.0                    0.0          0.0   \n",
       "3         0.0            2.0                    0.0          0.0   \n",
       "4         0.0            2.0                    0.0          0.0   \n",
       "\n",
       "   otherVehicleType  overBank  parkedVehicle  phoneBoxEtc  postOrPole  \\\n",
       "0               0.0       0.0            0.0          0.0         0.0   \n",
       "1               0.0       0.0            0.0          0.0         0.0   \n",
       "2               0.0       0.0            0.0          0.0         0.0   \n",
       "3               0.0       0.0            0.0          0.0         0.0   \n",
       "4               0.0       0.0            0.0          0.0         0.0   \n",
       "\n",
       "            region  roadCharacter roadLane roadSurface  roadworks  schoolBus  \\\n",
       "0  Auckland Region            Nil    2-way      Sealed        0.0        0.0   \n",
       "1   Waikato Region            Nil    2-way      Sealed        0.0        0.0   \n",
       "2  Auckland Region            Nil    2-way      Sealed        0.0        0.0   \n",
       "3  Auckland Region            Nil    2-way      Sealed        0.0        0.0   \n",
       "4  Auckland Region  Motorway ramp    1-way      Sealed        0.0        0.0   \n",
       "\n",
       "   seriousInjuryCount  slipOrFlood  speedLimit  strayAnimal streetLight  suv  \\\n",
       "0                 0.0          0.0        50.0          0.0          On  1.0   \n",
       "1                 0.0          0.0        50.0          0.0          On  0.0   \n",
       "2                 0.0          0.0        50.0          0.0         Off  0.0   \n",
       "3                 0.0          0.0        50.0          0.0        None  0.0   \n",
       "4                 0.0          0.0        50.0          0.0        None  0.0   \n",
       "\n",
       "   taxi           tlaName   trafficControl  trafficIsland  trafficSign  train  \\\n",
       "0   0.0          Auckland  Traffic Signals            0.0          0.0    0.0   \n",
       "1   0.0  Hauraki District         Give way            0.0          0.0    0.0   \n",
       "2   0.0          Auckland  Traffic Signals            0.0          0.0    0.0   \n",
       "3   0.0          Auckland              Nil            0.0          0.0    0.0   \n",
       "4   0.0          Auckland         Give way            0.0          0.0    0.0   \n",
       "\n",
       "   tree  truck  unknownVehicleType  urban  vanOrUtility  vehicle  waterRiver  \\\n",
       "0   0.0    0.0                 0.0  Urban           0.0      0.0         0.0   \n",
       "1   0.0    0.0                 0.0  Urban           0.0      0.0         0.0   \n",
       "2   0.0    0.0                 0.0  Urban           1.0      0.0         0.0   \n",
       "3   0.0    0.0                 0.0  Urban           0.0      0.0         0.0   \n",
       "4   0.0    0.0                 0.0  Urban           0.0      0.0         0.0   \n",
       "\n",
       "     weatherA  \n",
       "0        Fine  \n",
       "1        Fine  \n",
       "2        Fine  \n",
       "3  Light rain  \n",
       "4        Fine  "
      ]
     },
     "execution_count": 22,
     "metadata": {},
     "output_type": "execute_result"
    }
   ],
   "source": [
    "df = pd.read_csv('../input/cas-modified/CAS_modified .csv')\n",
    "pd.set_option('display.max_columns',None)\n",
    "df.head()"
   ]
  },
  {
   "cell_type": "code",
   "execution_count": 23,
   "metadata": {
    "execution": {
     "iopub.execute_input": "2022-04-07T09:41:32.574324Z",
     "iopub.status.busy": "2022-04-07T09:41:32.573834Z",
     "iopub.status.idle": "2022-04-07T09:41:33.755308Z",
     "shell.execute_reply": "2022-04-07T09:41:33.754568Z",
     "shell.execute_reply.started": "2022-04-07T09:41:32.574287Z"
    }
   },
   "outputs": [],
   "source": [
    "train, validate, test = \\\n",
    "              np.split(df.sample(frac=1, random_state=99), \n",
    "                       [int(.8*len(df)), int(.9*len(df))])"
   ]
  },
  {
   "cell_type": "code",
   "execution_count": 24,
   "metadata": {
    "execution": {
     "iopub.execute_input": "2022-04-07T09:41:33.756680Z",
     "iopub.status.busy": "2022-04-07T09:41:33.756417Z",
     "iopub.status.idle": "2022-04-07T09:42:00.785837Z",
     "shell.execute_reply": "2022-04-07T09:42:00.785051Z",
     "shell.execute_reply.started": "2022-04-07T09:41:33.756647Z"
    }
   },
   "outputs": [],
   "source": [
    "from patsy import dmatrices\n",
    "formula = \"seriousInjuryCount ~ bicycle+bridge+bus+carStationWagon+cliffBank+crashSeverity+crashYear+debris+ditch+fatalCount+fence+flatHill+guardRail+houseOrBuilding+kerb+minorInjuryCount+moped+motorcycle+NumberOfLanes+objectThrownOrDropped+otherObject+otherVehicleType+overBank+parkedVehicle+postOrPole+roadLane+roadSurface+roadworks+schoolBus+slipOrFlood+speedLimit+strayAnimal+streetLight+suv+taxi+trafficControl+trafficIsland+trafficSign+train+tree+truck+unknownVehicleType+urban+vanOrUtility+vehicle+waterRiver+weatherA\"\n",
    "y_train, X_train = dmatrices(formula, train, return_type='dataframe')\n",
    "y_test, X_test = dmatrices(formula, test, return_type='dataframe')\n",
    "y_valid, X_valid = dmatrices(formula, validate, return_type='dataframe')"
   ]
  },
  {
   "cell_type": "code",
   "execution_count": 25,
   "metadata": {
    "execution": {
     "iopub.execute_input": "2022-04-07T09:42:00.788302Z",
     "iopub.status.busy": "2022-04-07T09:42:00.788042Z",
     "iopub.status.idle": "2022-04-07T09:42:00.792054Z",
     "shell.execute_reply": "2022-04-07T09:42:00.791384Z",
     "shell.execute_reply.started": "2022-04-07T09:42:00.788267Z"
    }
   },
   "outputs": [],
   "source": [
    "#from sklearn.model_selection import train_test_split\n",
    "\n",
    "#train_size = 0.8\n",
    "\n",
    "#X = df.drop(columns = ['seriousInjuryCount']).copy()\n",
    "#y = df['seriousInjuryCount']"
   ]
  },
  {
   "cell_type": "code",
   "execution_count": 26,
   "metadata": {
    "execution": {
     "iopub.execute_input": "2022-04-07T09:42:00.793708Z",
     "iopub.status.busy": "2022-04-07T09:42:00.793278Z",
     "iopub.status.idle": "2022-04-07T09:42:00.803234Z",
     "shell.execute_reply": "2022-04-07T09:42:00.802441Z",
     "shell.execute_reply.started": "2022-04-07T09:42:00.793670Z"
    }
   },
   "outputs": [],
   "source": [
    "#X_train, X_test, y_train, y_test = train_test_split(X,y, test_size=0.2)"
   ]
  },
  {
   "cell_type": "code",
   "execution_count": 27,
   "metadata": {
    "execution": {
     "iopub.execute_input": "2022-04-07T09:42:00.804845Z",
     "iopub.status.busy": "2022-04-07T09:42:00.804578Z",
     "iopub.status.idle": "2022-04-07T09:42:00.812768Z",
     "shell.execute_reply": "2022-04-07T09:42:00.811961Z",
     "shell.execute_reply.started": "2022-04-07T09:42:00.804808Z"
    }
   },
   "outputs": [],
   "source": [
    "#X_valid, X_test, y_valid, y_test = train_test_split(X_test,y_test, test_size=0.5)"
   ]
  },
  {
   "cell_type": "code",
   "execution_count": 28,
   "metadata": {
    "execution": {
     "iopub.execute_input": "2022-04-07T09:42:00.814280Z",
     "iopub.status.busy": "2022-04-07T09:42:00.813979Z",
     "iopub.status.idle": "2022-04-07T09:42:00.825890Z",
     "shell.execute_reply": "2022-04-07T09:42:00.824936Z",
     "shell.execute_reply.started": "2022-04-07T09:42:00.814200Z"
    }
   },
   "outputs": [
    {
     "name": "stdout",
     "output_type": "stream",
     "text": [
      "(620792, 67)\n",
      "(620792, 1)\n",
      "(77599, 67)\n",
      "(77599, 1)\n",
      "(77600, 67)\n",
      "(77600, 1)\n"
     ]
    },
    {
     "data": {
      "text/plain": [
       "(None, None)"
      ]
     },
     "execution_count": 28,
     "metadata": {},
     "output_type": "execute_result"
    }
   ],
   "source": [
    "print(X_train.shape), print(y_train.shape)\n",
    "print(X_valid.shape), print(y_valid.shape)\n",
    "print(X_test.shape), print(y_test.shape)"
   ]
  },
  {
   "cell_type": "code",
   "execution_count": 29,
   "metadata": {
    "execution": {
     "iopub.execute_input": "2022-04-07T09:42:00.827607Z",
     "iopub.status.busy": "2022-04-07T09:42:00.827163Z",
     "iopub.status.idle": "2022-04-07T09:42:00.840465Z",
     "shell.execute_reply": "2022-04-07T09:42:00.839733Z",
     "shell.execute_reply.started": "2022-04-07T09:42:00.827498Z"
    }
   },
   "outputs": [],
   "source": [
    "X_train = X_train.to_numpy()\n",
    "y_train = y_train.to_numpy()\n",
    "X_valid = X_valid.to_numpy()\n",
    "y_valid = y_valid.to_numpy()\n",
    "X_test = X_test.to_numpy()\n",
    "y_test = y_test.to_numpy()\n"
   ]
  },
  {
   "cell_type": "code",
   "execution_count": 30,
   "metadata": {
    "execution": {
     "iopub.execute_input": "2022-04-07T09:42:00.843649Z",
     "iopub.status.busy": "2022-04-07T09:42:00.843202Z",
     "iopub.status.idle": "2022-04-07T09:42:00.853409Z",
     "shell.execute_reply": "2022-04-07T09:42:00.852681Z",
     "shell.execute_reply.started": "2022-04-07T09:42:00.843621Z"
    }
   },
   "outputs": [
    {
     "data": {
      "text/plain": [
       "(620792, 67)"
      ]
     },
     "execution_count": 30,
     "metadata": {},
     "output_type": "execute_result"
    }
   ],
   "source": [
    "X_train.shape"
   ]
  },
  {
   "cell_type": "code",
   "execution_count": 31,
   "metadata": {
    "execution": {
     "iopub.execute_input": "2022-04-07T09:42:00.856632Z",
     "iopub.status.busy": "2022-04-07T09:42:00.856168Z",
     "iopub.status.idle": "2022-04-07T09:42:00.860649Z",
     "shell.execute_reply": "2022-04-07T09:42:00.859873Z",
     "shell.execute_reply.started": "2022-04-07T09:42:00.856599Z"
    }
   },
   "outputs": [],
   "source": [
    "import tensorflow as tf"
   ]
  },
  {
   "cell_type": "code",
   "execution_count": 32,
   "metadata": {
    "execution": {
     "iopub.execute_input": "2022-04-07T09:42:00.862742Z",
     "iopub.status.busy": "2022-04-07T09:42:00.862048Z",
     "iopub.status.idle": "2022-04-07T09:42:01.479015Z",
     "shell.execute_reply": "2022-04-07T09:42:01.478294Z",
     "shell.execute_reply.started": "2022-04-07T09:42:00.862693Z"
    }
   },
   "outputs": [],
   "source": [
    "BATCH_SIZE = 64\n",
    "\n",
    "train_dataset = tf.data.Dataset.from_tensor_slices((X_train, y_train)).shuffle(len(X_train)).batch(BATCH_SIZE)\n",
    "valid_dataset = tf.data.Dataset.from_tensor_slices((X_valid, y_valid)).shuffle(len(X_valid)).batch(BATCH_SIZE)"
   ]
  },
  {
   "cell_type": "code",
   "execution_count": 33,
   "metadata": {
    "execution": {
     "iopub.execute_input": "2022-04-07T09:42:01.480652Z",
     "iopub.status.busy": "2022-04-07T09:42:01.480395Z",
     "iopub.status.idle": "2022-04-07T09:42:01.485279Z",
     "shell.execute_reply": "2022-04-07T09:42:01.483848Z",
     "shell.execute_reply.started": "2022-04-07T09:42:01.480618Z"
    }
   },
   "outputs": [],
   "source": [
    "from tensorflow.keras import backend as K"
   ]
  },
  {
   "cell_type": "code",
   "execution_count": 34,
   "metadata": {
    "execution": {
     "iopub.execute_input": "2022-04-07T09:42:01.488082Z",
     "iopub.status.busy": "2022-04-07T09:42:01.487317Z",
     "iopub.status.idle": "2022-04-07T09:42:01.495404Z",
     "shell.execute_reply": "2022-04-07T09:42:01.494561Z",
     "shell.execute_reply.started": "2022-04-07T09:42:01.488043Z"
    }
   },
   "outputs": [],
   "source": [
    "def rmse(y_pred,y_true):\n",
    "    return K.sqrt(K.mean(K.square(y_pred-y_true)))"
   ]
  },
  {
   "cell_type": "code",
   "execution_count": 39,
   "metadata": {
    "execution": {
     "iopub.execute_input": "2022-04-07T09:43:53.351182Z",
     "iopub.status.busy": "2022-04-07T09:43:53.350630Z",
     "iopub.status.idle": "2022-04-07T09:43:53.397057Z",
     "shell.execute_reply": "2022-04-07T09:43:53.396370Z",
     "shell.execute_reply.started": "2022-04-07T09:43:53.351145Z"
    }
   },
   "outputs": [],
   "source": [
    "model = tf.keras.Sequential([\n",
    "    tf.keras.layers.InputLayer((67,)),\n",
    "    tf.keras.layers.Dense(256, activation='relu'),\n",
    "    tf.keras.layers.Dense(128, activation='relu'),\n",
    "    tf.keras.layers.Dense(64, activation='relu'),\n",
    "    tf.keras.layers.Dense(32, activation='relu'),\n",
    "    tf.keras.layers.Dense(1)\n",
    "    \n",
    "])\n",
    "\n",
    "model.compile(optimizer=tf.keras.optimizers.Adam(learning_rate=0.01),\n",
    "              loss=rmse,\n",
    "              metrics=[rmse,'accuracy'])\n",
    "checkpoint = tf.keras.callbacks.ModelCheckpoint(\"\")\n",
    "early_stopping = tf.keras.callbacks.EarlyStopping(monitor=\"val_acc\",patience=10)"
   ]
  },
  {
   "cell_type": "code",
   "execution_count": 41,
   "metadata": {
    "execution": {
     "iopub.execute_input": "2022-04-07T09:44:03.777127Z",
     "iopub.status.busy": "2022-04-07T09:44:03.776855Z",
     "iopub.status.idle": "2022-04-07T09:49:43.731326Z",
     "shell.execute_reply": "2022-04-07T09:49:43.730385Z",
     "shell.execute_reply.started": "2022-04-07T09:44:03.777096Z"
    }
   },
   "outputs": [
    {
     "name": "stdout",
     "output_type": "stream",
     "text": [
      "Epoch 1/10\n"
     ]
    },
    {
     "name": "stderr",
     "output_type": "stream",
     "text": [
      "2022-04-07 09:44:04.648748: I tensorflow/compiler/mlir/mlir_graph_optimization_pass.cc:185] None of the MLIR Optimization Passes are enabled (registered 2)\n"
     ]
    },
    {
     "name": "stdout",
     "output_type": "stream",
     "text": [
      "9700/9700 - 24s - loss: 0.4793 - rmse: 0.4793 - accuracy: 0.9370 - val_loss: 0.2763 - val_rmse: 0.2764 - val_accuracy: 0.9427\n"
     ]
    },
    {
     "name": "stderr",
     "output_type": "stream",
     "text": [
      "2022-04-07 09:44:28.267652: W tensorflow/python/util/util.cc:348] Sets are not currently considered sequences, but this may change in the future, so consider avoiding using them.\n"
     ]
    },
    {
     "name": "stdout",
     "output_type": "stream",
     "text": [
      "Epoch 2/10\n",
      "9700/9700 - 22s - loss: 0.2787 - rmse: 0.2787 - accuracy: 0.9406 - val_loss: 0.2755 - val_rmse: 0.2755 - val_accuracy: 0.9427\n",
      "Epoch 3/10\n",
      "9700/9700 - 22s - loss: 0.2792 - rmse: 0.2792 - accuracy: 0.9406 - val_loss: 0.2754 - val_rmse: 0.2754 - val_accuracy: 0.9427\n",
      "Epoch 4/10\n",
      "9700/9700 - 22s - loss: 0.2788 - rmse: 0.2788 - accuracy: 0.9406 - val_loss: 0.2761 - val_rmse: 0.2761 - val_accuracy: 0.9427\n",
      "Epoch 5/10\n",
      "9700/9700 - 22s - loss: 0.2792 - rmse: 0.2792 - accuracy: 0.9406 - val_loss: 0.2748 - val_rmse: 0.2749 - val_accuracy: 0.9427\n",
      "Epoch 6/10\n",
      "9700/9700 - 22s - loss: 0.2787 - rmse: 0.2787 - accuracy: 0.9406 - val_loss: 0.2754 - val_rmse: 0.2755 - val_accuracy: 0.9427\n",
      "Epoch 7/10\n",
      "9700/9700 - 23s - loss: 0.2788 - rmse: 0.2788 - accuracy: 0.9406 - val_loss: 0.2755 - val_rmse: 0.2755 - val_accuracy: 0.9427\n",
      "Epoch 8/10\n",
      "9700/9700 - 22s - loss: 0.2789 - rmse: 0.2789 - accuracy: 0.9406 - val_loss: 0.2766 - val_rmse: 0.2766 - val_accuracy: 0.9427\n",
      "Epoch 9/10\n",
      "9700/9700 - 21s - loss: 0.2787 - rmse: 0.2787 - accuracy: 0.9406 - val_loss: 0.2759 - val_rmse: 0.2760 - val_accuracy: 0.9427\n",
      "Epoch 10/10\n",
      "9700/9700 - 22s - loss: 0.2787 - rmse: 0.2787 - accuracy: 0.9406 - val_loss: 0.2753 - val_rmse: 0.2753 - val_accuracy: 0.9427\n"
     ]
    },
    {
     "data": {
      "text/plain": [
       "<keras.callbacks.History at 0x7f5ff8975510>"
      ]
     },
     "execution_count": 41,
     "metadata": {},
     "output_type": "execute_result"
    }
   ],
   "source": [
    "model.fit(train_dataset,\n",
    "          validation_data= valid_dataset,\n",
    "          shuffle = True,\n",
    "          verbose = 2,\n",
    "          callbacks=[checkpoint,early_stopping],\n",
    "          epochs=10)"
   ]
  }
 ],
 "metadata": {
  "kernelspec": {
   "display_name": "Python 3 (ipykernel)",
   "language": "python",
   "name": "python3"
  },
  "language_info": {
   "codemirror_mode": {
    "name": "ipython",
    "version": 3
   },
   "file_extension": ".py",
   "mimetype": "text/x-python",
   "name": "python",
   "nbconvert_exporter": "python",
   "pygments_lexer": "ipython3",
   "version": "3.9.7"
  }
 },
 "nbformat": 4,
 "nbformat_minor": 4
}
