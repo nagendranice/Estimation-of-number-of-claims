{
 "cells": [
  {
   "cell_type": "markdown",
   "metadata": {},
   "source": [
    "<h1 align=\"center\">CAS Modeling</h1>"
   ]
  },
  {
   "cell_type": "code",
   "execution_count": 1,
   "metadata": {
    "id": "93daIPJwGrGy"
   },
   "outputs": [],
   "source": [
    "import numpy as np\n",
    "import pandas as pd\n",
    "import random\n",
    "\n",
    "import matplotlib.pyplot as plt\n",
    "import seaborn as sns\n",
    "from patsy import dmatrices\n",
    "\n",
    "import statsmodels.api as sm\n",
    "from statsmodels.stats.outliers_influence import variance_inflation_factor\n",
    "\n",
    "from sklearn.metrics import mean_squared_error, mean_absolute_error\n",
    "from sklearn.feature_selection import RFE\n",
    "from sklearn.linear_model import PoissonRegressor\n",
    "from sklearn.model_selection import train_test_split\n",
    "\n",
    "from lime import lime_tabular\n",
    "\n",
    "import warnings\n",
    "warnings.filterwarnings(\"ignore\")\n",
    "\n",
    "sns.set_theme()"
   ]
  },
  {
   "cell_type": "code",
   "execution_count": 2,
   "metadata": {},
   "outputs": [],
   "source": [
    "pd.set_option('display.max_columns',None)"
   ]
  },
  {
   "cell_type": "markdown",
   "metadata": {},
   "source": [
    "## Importing data"
   ]
  },
  {
   "cell_type": "code",
   "execution_count": 4,
   "metadata": {
    "colab": {
     "base_uri": "https://localhost:8080/",
     "height": 313
    },
    "id": "91cVGTrjG24A",
    "outputId": "b69127c2-3331-46e3-a57e-4906b72b04b6"
   },
   "outputs": [
    {
     "data": {
      "text/html": [
       "<div>\n",
       "<style scoped>\n",
       "    .dataframe tbody tr th:only-of-type {\n",
       "        vertical-align: middle;\n",
       "    }\n",
       "\n",
       "    .dataframe tbody tr th {\n",
       "        vertical-align: top;\n",
       "    }\n",
       "\n",
       "    .dataframe thead th {\n",
       "        text-align: right;\n",
       "    }\n",
       "</style>\n",
       "<table border=\"1\" class=\"dataframe\">\n",
       "  <thead>\n",
       "    <tr style=\"text-align: right;\">\n",
       "      <th></th>\n",
       "      <th>X</th>\n",
       "      <th>Y</th>\n",
       "      <th>bicycle</th>\n",
       "      <th>bridge</th>\n",
       "      <th>bus</th>\n",
       "      <th>carStationWagon</th>\n",
       "      <th>cliffBank</th>\n",
       "      <th>crashDirectionDescription</th>\n",
       "      <th>crashFinancialYear</th>\n",
       "      <th>crashLocation1</th>\n",
       "      <th>crashLocation2</th>\n",
       "      <th>crashSeverity</th>\n",
       "      <th>crashSHDescription</th>\n",
       "      <th>crashYear</th>\n",
       "      <th>debris</th>\n",
       "      <th>directionRoleDescription</th>\n",
       "      <th>ditch</th>\n",
       "      <th>fatalCount</th>\n",
       "      <th>fence</th>\n",
       "      <th>flatHill</th>\n",
       "      <th>guardRail</th>\n",
       "      <th>houseOrBuilding</th>\n",
       "      <th>kerb</th>\n",
       "      <th>light</th>\n",
       "      <th>minorInjuryCount</th>\n",
       "      <th>moped</th>\n",
       "      <th>motorcycle</th>\n",
       "      <th>NumberOfLanes</th>\n",
       "      <th>objectThrownOrDropped</th>\n",
       "      <th>otherObject</th>\n",
       "      <th>otherVehicleType</th>\n",
       "      <th>overBank</th>\n",
       "      <th>parkedVehicle</th>\n",
       "      <th>phoneBoxEtc</th>\n",
       "      <th>postOrPole</th>\n",
       "      <th>region</th>\n",
       "      <th>roadCharacter</th>\n",
       "      <th>roadLane</th>\n",
       "      <th>roadSurface</th>\n",
       "      <th>roadworks</th>\n",
       "      <th>schoolBus</th>\n",
       "      <th>seriousInjuryCount</th>\n",
       "      <th>slipOrFlood</th>\n",
       "      <th>speedLimit</th>\n",
       "      <th>strayAnimal</th>\n",
       "      <th>streetLight</th>\n",
       "      <th>suv</th>\n",
       "      <th>taxi</th>\n",
       "      <th>tlaName</th>\n",
       "      <th>trafficControl</th>\n",
       "      <th>trafficIsland</th>\n",
       "      <th>trafficSign</th>\n",
       "      <th>train</th>\n",
       "      <th>tree</th>\n",
       "      <th>truck</th>\n",
       "      <th>unknownVehicleType</th>\n",
       "      <th>urban</th>\n",
       "      <th>vanOrUtility</th>\n",
       "      <th>vehicle</th>\n",
       "      <th>waterRiver</th>\n",
       "      <th>weatherA</th>\n",
       "    </tr>\n",
       "  </thead>\n",
       "  <tbody>\n",
       "    <tr>\n",
       "      <th>0</th>\n",
       "      <td>1772561.0</td>\n",
       "      <td>5896382.0</td>\n",
       "      <td>0.0</td>\n",
       "      <td>0.0</td>\n",
       "      <td>0.0</td>\n",
       "      <td>1.0</td>\n",
       "      <td>0.0</td>\n",
       "      <td>None</td>\n",
       "      <td>2007/2008</td>\n",
       "      <td>EAST ST</td>\n",
       "      <td>ELLIOT ST</td>\n",
       "      <td>Non-Injury Crash</td>\n",
       "      <td>No</td>\n",
       "      <td>2007</td>\n",
       "      <td>0.0</td>\n",
       "      <td>North</td>\n",
       "      <td>0.0</td>\n",
       "      <td>0.0</td>\n",
       "      <td>0.0</td>\n",
       "      <td>Flat</td>\n",
       "      <td>0.0</td>\n",
       "      <td>0.0</td>\n",
       "      <td>0.0</td>\n",
       "      <td>Dark</td>\n",
       "      <td>0.0</td>\n",
       "      <td>0.0</td>\n",
       "      <td>0.0</td>\n",
       "      <td>2.0</td>\n",
       "      <td>0.0</td>\n",
       "      <td>0.0</td>\n",
       "      <td>0.0</td>\n",
       "      <td>0.0</td>\n",
       "      <td>0.0</td>\n",
       "      <td>0.0</td>\n",
       "      <td>0.0</td>\n",
       "      <td>Auckland Region</td>\n",
       "      <td>Nil</td>\n",
       "      <td>2-way</td>\n",
       "      <td>Sealed</td>\n",
       "      <td>0.0</td>\n",
       "      <td>0.0</td>\n",
       "      <td>0.0</td>\n",
       "      <td>0.0</td>\n",
       "      <td>50.0</td>\n",
       "      <td>0.0</td>\n",
       "      <td>On</td>\n",
       "      <td>1.0</td>\n",
       "      <td>0.0</td>\n",
       "      <td>Auckland</td>\n",
       "      <td>Traffic Signals</td>\n",
       "      <td>0.0</td>\n",
       "      <td>0.0</td>\n",
       "      <td>0.0</td>\n",
       "      <td>0.0</td>\n",
       "      <td>0.0</td>\n",
       "      <td>0.0</td>\n",
       "      <td>Urban</td>\n",
       "      <td>0.0</td>\n",
       "      <td>0.0</td>\n",
       "      <td>0.0</td>\n",
       "      <td>Fine</td>\n",
       "    </tr>\n",
       "    <tr>\n",
       "      <th>1</th>\n",
       "      <td>1836757.0</td>\n",
       "      <td>5859311.0</td>\n",
       "      <td>0.0</td>\n",
       "      <td>0.0</td>\n",
       "      <td>0.0</td>\n",
       "      <td>2.0</td>\n",
       "      <td>0.0</td>\n",
       "      <td>None</td>\n",
       "      <td>2002/2003</td>\n",
       "      <td>SH 2</td>\n",
       "      <td>SH 26</td>\n",
       "      <td>Non-Injury Crash</td>\n",
       "      <td>Yes</td>\n",
       "      <td>2003</td>\n",
       "      <td>0.0</td>\n",
       "      <td>North</td>\n",
       "      <td>0.0</td>\n",
       "      <td>0.0</td>\n",
       "      <td>0.0</td>\n",
       "      <td>Flat</td>\n",
       "      <td>0.0</td>\n",
       "      <td>0.0</td>\n",
       "      <td>0.0</td>\n",
       "      <td>Dark</td>\n",
       "      <td>0.0</td>\n",
       "      <td>0.0</td>\n",
       "      <td>0.0</td>\n",
       "      <td>2.0</td>\n",
       "      <td>0.0</td>\n",
       "      <td>0.0</td>\n",
       "      <td>0.0</td>\n",
       "      <td>0.0</td>\n",
       "      <td>0.0</td>\n",
       "      <td>0.0</td>\n",
       "      <td>0.0</td>\n",
       "      <td>Waikato Region</td>\n",
       "      <td>Nil</td>\n",
       "      <td>2-way</td>\n",
       "      <td>Sealed</td>\n",
       "      <td>0.0</td>\n",
       "      <td>0.0</td>\n",
       "      <td>0.0</td>\n",
       "      <td>0.0</td>\n",
       "      <td>50.0</td>\n",
       "      <td>0.0</td>\n",
       "      <td>On</td>\n",
       "      <td>0.0</td>\n",
       "      <td>0.0</td>\n",
       "      <td>Hauraki District</td>\n",
       "      <td>Give way</td>\n",
       "      <td>0.0</td>\n",
       "      <td>0.0</td>\n",
       "      <td>0.0</td>\n",
       "      <td>0.0</td>\n",
       "      <td>0.0</td>\n",
       "      <td>0.0</td>\n",
       "      <td>Urban</td>\n",
       "      <td>0.0</td>\n",
       "      <td>0.0</td>\n",
       "      <td>0.0</td>\n",
       "      <td>Fine</td>\n",
       "    </tr>\n",
       "    <tr>\n",
       "      <th>2</th>\n",
       "      <td>1762088.0</td>\n",
       "      <td>5912507.0</td>\n",
       "      <td>0.0</td>\n",
       "      <td>0.0</td>\n",
       "      <td>0.0</td>\n",
       "      <td>1.0</td>\n",
       "      <td>0.0</td>\n",
       "      <td>West</td>\n",
       "      <td>2009/2010</td>\n",
       "      <td>CHURCH ST</td>\n",
       "      <td>HUGO JOHNSTON DRIVE</td>\n",
       "      <td>Non-Injury Crash</td>\n",
       "      <td>No</td>\n",
       "      <td>2010</td>\n",
       "      <td>0.0</td>\n",
       "      <td>East</td>\n",
       "      <td>0.0</td>\n",
       "      <td>0.0</td>\n",
       "      <td>0.0</td>\n",
       "      <td>Flat</td>\n",
       "      <td>0.0</td>\n",
       "      <td>0.0</td>\n",
       "      <td>0.0</td>\n",
       "      <td>Bright sun</td>\n",
       "      <td>0.0</td>\n",
       "      <td>0.0</td>\n",
       "      <td>0.0</td>\n",
       "      <td>2.0</td>\n",
       "      <td>0.0</td>\n",
       "      <td>0.0</td>\n",
       "      <td>0.0</td>\n",
       "      <td>0.0</td>\n",
       "      <td>0.0</td>\n",
       "      <td>0.0</td>\n",
       "      <td>0.0</td>\n",
       "      <td>Auckland Region</td>\n",
       "      <td>Nil</td>\n",
       "      <td>2-way</td>\n",
       "      <td>Sealed</td>\n",
       "      <td>0.0</td>\n",
       "      <td>0.0</td>\n",
       "      <td>0.0</td>\n",
       "      <td>0.0</td>\n",
       "      <td>50.0</td>\n",
       "      <td>0.0</td>\n",
       "      <td>Off</td>\n",
       "      <td>0.0</td>\n",
       "      <td>0.0</td>\n",
       "      <td>Auckland</td>\n",
       "      <td>Traffic Signals</td>\n",
       "      <td>0.0</td>\n",
       "      <td>0.0</td>\n",
       "      <td>0.0</td>\n",
       "      <td>0.0</td>\n",
       "      <td>0.0</td>\n",
       "      <td>0.0</td>\n",
       "      <td>Urban</td>\n",
       "      <td>1.0</td>\n",
       "      <td>0.0</td>\n",
       "      <td>0.0</td>\n",
       "      <td>Fine</td>\n",
       "    </tr>\n",
       "    <tr>\n",
       "      <th>3</th>\n",
       "      <td>1753522.0</td>\n",
       "      <td>5911939.0</td>\n",
       "      <td>0.0</td>\n",
       "      <td>0.0</td>\n",
       "      <td>0.0</td>\n",
       "      <td>2.0</td>\n",
       "      <td>0.0</td>\n",
       "      <td>None</td>\n",
       "      <td>2017/2018</td>\n",
       "      <td>THE AVENUE</td>\n",
       "      <td>ACCESSWAY</td>\n",
       "      <td>Minor Crash</td>\n",
       "      <td>No</td>\n",
       "      <td>2017</td>\n",
       "      <td>0.0</td>\n",
       "      <td>North</td>\n",
       "      <td>0.0</td>\n",
       "      <td>0.0</td>\n",
       "      <td>0.0</td>\n",
       "      <td>Hill Road</td>\n",
       "      <td>0.0</td>\n",
       "      <td>0.0</td>\n",
       "      <td>0.0</td>\n",
       "      <td>Overcast</td>\n",
       "      <td>1.0</td>\n",
       "      <td>0.0</td>\n",
       "      <td>0.0</td>\n",
       "      <td>2.0</td>\n",
       "      <td>0.0</td>\n",
       "      <td>0.0</td>\n",
       "      <td>0.0</td>\n",
       "      <td>0.0</td>\n",
       "      <td>0.0</td>\n",
       "      <td>0.0</td>\n",
       "      <td>0.0</td>\n",
       "      <td>Auckland Region</td>\n",
       "      <td>Nil</td>\n",
       "      <td>2-way</td>\n",
       "      <td>Sealed</td>\n",
       "      <td>0.0</td>\n",
       "      <td>0.0</td>\n",
       "      <td>0.0</td>\n",
       "      <td>0.0</td>\n",
       "      <td>50.0</td>\n",
       "      <td>0.0</td>\n",
       "      <td>None</td>\n",
       "      <td>0.0</td>\n",
       "      <td>0.0</td>\n",
       "      <td>Auckland</td>\n",
       "      <td>Nil</td>\n",
       "      <td>0.0</td>\n",
       "      <td>0.0</td>\n",
       "      <td>0.0</td>\n",
       "      <td>0.0</td>\n",
       "      <td>0.0</td>\n",
       "      <td>0.0</td>\n",
       "      <td>Urban</td>\n",
       "      <td>0.0</td>\n",
       "      <td>0.0</td>\n",
       "      <td>0.0</td>\n",
       "      <td>Light rain</td>\n",
       "    </tr>\n",
       "    <tr>\n",
       "      <th>4</th>\n",
       "      <td>1761364.0</td>\n",
       "      <td>5914259.0</td>\n",
       "      <td>0.0</td>\n",
       "      <td>0.0</td>\n",
       "      <td>0.0</td>\n",
       "      <td>2.0</td>\n",
       "      <td>0.0</td>\n",
       "      <td>None</td>\n",
       "      <td>2017/2018</td>\n",
       "      <td>PENROSE INT</td>\n",
       "      <td>GT SOUTH LINK</td>\n",
       "      <td>Non-Injury Crash</td>\n",
       "      <td>No</td>\n",
       "      <td>2018</td>\n",
       "      <td>0.0</td>\n",
       "      <td>North</td>\n",
       "      <td>0.0</td>\n",
       "      <td>0.0</td>\n",
       "      <td>0.0</td>\n",
       "      <td>Flat</td>\n",
       "      <td>0.0</td>\n",
       "      <td>0.0</td>\n",
       "      <td>0.0</td>\n",
       "      <td>Overcast</td>\n",
       "      <td>0.0</td>\n",
       "      <td>0.0</td>\n",
       "      <td>0.0</td>\n",
       "      <td>2.0</td>\n",
       "      <td>0.0</td>\n",
       "      <td>0.0</td>\n",
       "      <td>0.0</td>\n",
       "      <td>0.0</td>\n",
       "      <td>0.0</td>\n",
       "      <td>0.0</td>\n",
       "      <td>0.0</td>\n",
       "      <td>Auckland Region</td>\n",
       "      <td>Motorway ramp</td>\n",
       "      <td>1-way</td>\n",
       "      <td>Sealed</td>\n",
       "      <td>0.0</td>\n",
       "      <td>0.0</td>\n",
       "      <td>0.0</td>\n",
       "      <td>0.0</td>\n",
       "      <td>50.0</td>\n",
       "      <td>0.0</td>\n",
       "      <td>None</td>\n",
       "      <td>0.0</td>\n",
       "      <td>0.0</td>\n",
       "      <td>Auckland</td>\n",
       "      <td>Give way</td>\n",
       "      <td>0.0</td>\n",
       "      <td>0.0</td>\n",
       "      <td>0.0</td>\n",
       "      <td>0.0</td>\n",
       "      <td>0.0</td>\n",
       "      <td>0.0</td>\n",
       "      <td>Urban</td>\n",
       "      <td>0.0</td>\n",
       "      <td>0.0</td>\n",
       "      <td>0.0</td>\n",
       "      <td>Fine</td>\n",
       "    </tr>\n",
       "  </tbody>\n",
       "</table>\n",
       "</div>"
      ],
      "text/plain": [
       "           X          Y  bicycle  bridge  bus  carStationWagon  cliffBank  \\\n",
       "0  1772561.0  5896382.0      0.0     0.0  0.0              1.0        0.0   \n",
       "1  1836757.0  5859311.0      0.0     0.0  0.0              2.0        0.0   \n",
       "2  1762088.0  5912507.0      0.0     0.0  0.0              1.0        0.0   \n",
       "3  1753522.0  5911939.0      0.0     0.0  0.0              2.0        0.0   \n",
       "4  1761364.0  5914259.0      0.0     0.0  0.0              2.0        0.0   \n",
       "\n",
       "  crashDirectionDescription crashFinancialYear crashLocation1  \\\n",
       "0                      None          2007/2008        EAST ST   \n",
       "1                      None          2002/2003           SH 2   \n",
       "2                      West          2009/2010      CHURCH ST   \n",
       "3                      None          2017/2018     THE AVENUE   \n",
       "4                      None          2017/2018    PENROSE INT   \n",
       "\n",
       "        crashLocation2     crashSeverity crashSHDescription  crashYear  \\\n",
       "0            ELLIOT ST  Non-Injury Crash                 No       2007   \n",
       "1                SH 26  Non-Injury Crash                Yes       2003   \n",
       "2  HUGO JOHNSTON DRIVE  Non-Injury Crash                 No       2010   \n",
       "3            ACCESSWAY       Minor Crash                 No       2017   \n",
       "4        GT SOUTH LINK  Non-Injury Crash                 No       2018   \n",
       "\n",
       "   debris directionRoleDescription  ditch  fatalCount  fence   flatHill  \\\n",
       "0     0.0                    North    0.0         0.0    0.0       Flat   \n",
       "1     0.0                    North    0.0         0.0    0.0       Flat   \n",
       "2     0.0                     East    0.0         0.0    0.0       Flat   \n",
       "3     0.0                    North    0.0         0.0    0.0  Hill Road   \n",
       "4     0.0                    North    0.0         0.0    0.0       Flat   \n",
       "\n",
       "   guardRail  houseOrBuilding  kerb       light  minorInjuryCount  moped  \\\n",
       "0        0.0              0.0   0.0        Dark               0.0    0.0   \n",
       "1        0.0              0.0   0.0        Dark               0.0    0.0   \n",
       "2        0.0              0.0   0.0  Bright sun               0.0    0.0   \n",
       "3        0.0              0.0   0.0    Overcast               1.0    0.0   \n",
       "4        0.0              0.0   0.0    Overcast               0.0    0.0   \n",
       "\n",
       "   motorcycle  NumberOfLanes  objectThrownOrDropped  otherObject  \\\n",
       "0         0.0            2.0                    0.0          0.0   \n",
       "1         0.0            2.0                    0.0          0.0   \n",
       "2         0.0            2.0                    0.0          0.0   \n",
       "3         0.0            2.0                    0.0          0.0   \n",
       "4         0.0            2.0                    0.0          0.0   \n",
       "\n",
       "   otherVehicleType  overBank  parkedVehicle  phoneBoxEtc  postOrPole  \\\n",
       "0               0.0       0.0            0.0          0.0         0.0   \n",
       "1               0.0       0.0            0.0          0.0         0.0   \n",
       "2               0.0       0.0            0.0          0.0         0.0   \n",
       "3               0.0       0.0            0.0          0.0         0.0   \n",
       "4               0.0       0.0            0.0          0.0         0.0   \n",
       "\n",
       "            region  roadCharacter roadLane roadSurface  roadworks  schoolBus  \\\n",
       "0  Auckland Region            Nil    2-way      Sealed        0.0        0.0   \n",
       "1   Waikato Region            Nil    2-way      Sealed        0.0        0.0   \n",
       "2  Auckland Region            Nil    2-way      Sealed        0.0        0.0   \n",
       "3  Auckland Region            Nil    2-way      Sealed        0.0        0.0   \n",
       "4  Auckland Region  Motorway ramp    1-way      Sealed        0.0        0.0   \n",
       "\n",
       "   seriousInjuryCount  slipOrFlood  speedLimit  strayAnimal streetLight  suv  \\\n",
       "0                 0.0          0.0        50.0          0.0          On  1.0   \n",
       "1                 0.0          0.0        50.0          0.0          On  0.0   \n",
       "2                 0.0          0.0        50.0          0.0         Off  0.0   \n",
       "3                 0.0          0.0        50.0          0.0        None  0.0   \n",
       "4                 0.0          0.0        50.0          0.0        None  0.0   \n",
       "\n",
       "   taxi           tlaName   trafficControl  trafficIsland  trafficSign  train  \\\n",
       "0   0.0          Auckland  Traffic Signals            0.0          0.0    0.0   \n",
       "1   0.0  Hauraki District         Give way            0.0          0.0    0.0   \n",
       "2   0.0          Auckland  Traffic Signals            0.0          0.0    0.0   \n",
       "3   0.0          Auckland              Nil            0.0          0.0    0.0   \n",
       "4   0.0          Auckland         Give way            0.0          0.0    0.0   \n",
       "\n",
       "   tree  truck  unknownVehicleType  urban  vanOrUtility  vehicle  waterRiver  \\\n",
       "0   0.0    0.0                 0.0  Urban           0.0      0.0         0.0   \n",
       "1   0.0    0.0                 0.0  Urban           0.0      0.0         0.0   \n",
       "2   0.0    0.0                 0.0  Urban           1.0      0.0         0.0   \n",
       "3   0.0    0.0                 0.0  Urban           0.0      0.0         0.0   \n",
       "4   0.0    0.0                 0.0  Urban           0.0      0.0         0.0   \n",
       "\n",
       "     weatherA  \n",
       "0        Fine  \n",
       "1        Fine  \n",
       "2        Fine  \n",
       "3  Light rain  \n",
       "4        Fine  "
      ]
     },
     "execution_count": 4,
     "metadata": {},
     "output_type": "execute_result"
    }
   ],
   "source": [
    "df= pd.read_csv('CAS_modified .csv')\n",
    "df.drop([\"Unnamed: 0\"],axis=1,inplace=True)\n",
    "df.head()"
   ]
  },
  {
   "cell_type": "code",
   "execution_count": 5,
   "metadata": {},
   "outputs": [
    {
     "data": {
      "text/plain": [
       "array([ 0.,  1.,  2.,  3.,  4.,  5.,  7.,  6.,  8., 16.,  9., 18., 10.,\n",
       "       30., 13., 26., 12., 11., 34., 15., 14., 21.])"
      ]
     },
     "execution_count": 5,
     "metadata": {},
     "output_type": "execute_result"
    }
   ],
   "source": [
    "df.minorInjuryCount.unique()"
   ]
  },
  {
   "cell_type": "code",
   "execution_count": 6,
   "metadata": {
    "id": "eWMer30rHEXq"
   },
   "outputs": [
    {
     "data": {
      "text/plain": [
       "(775991, 61)"
      ]
     },
     "execution_count": 6,
     "metadata": {},
     "output_type": "execute_result"
    }
   ],
   "source": [
    "df.shape"
   ]
  },
  {
   "cell_type": "code",
   "execution_count": 7,
   "metadata": {
    "id": "O-OqgcaKHJbz"
   },
   "outputs": [
    {
     "name": "stdout",
     "output_type": "stream",
     "text": [
      "<class 'pandas.core.frame.DataFrame'>\n",
      "RangeIndex: 775991 entries, 0 to 775990\n",
      "Data columns (total 61 columns):\n",
      " #   Column                     Non-Null Count   Dtype  \n",
      "---  ------                     --------------   -----  \n",
      " 0   X                          775991 non-null  float64\n",
      " 1   Y                          775991 non-null  float64\n",
      " 2   bicycle                    775991 non-null  float64\n",
      " 3   bridge                     775991 non-null  float64\n",
      " 4   bus                        775991 non-null  float64\n",
      " 5   carStationWagon            775991 non-null  float64\n",
      " 6   cliffBank                  775991 non-null  float64\n",
      " 7   crashDirectionDescription  775991 non-null  object \n",
      " 8   crashFinancialYear         775991 non-null  object \n",
      " 9   crashLocation1             775991 non-null  object \n",
      " 10  crashLocation2             775991 non-null  object \n",
      " 11  crashSeverity              775991 non-null  object \n",
      " 12  crashSHDescription         775990 non-null  object \n",
      " 13  crashYear                  775991 non-null  int64  \n",
      " 14  debris                     775991 non-null  float64\n",
      " 15  directionRoleDescription   775991 non-null  object \n",
      " 16  ditch                      775991 non-null  float64\n",
      " 17  fatalCount                 775991 non-null  float64\n",
      " 18  fence                      775991 non-null  float64\n",
      " 19  flatHill                   775991 non-null  object \n",
      " 20  guardRail                  775991 non-null  float64\n",
      " 21  houseOrBuilding            775991 non-null  float64\n",
      " 22  kerb                       775991 non-null  float64\n",
      " 23  light                      775991 non-null  object \n",
      " 24  minorInjuryCount           775991 non-null  float64\n",
      " 25  moped                      775991 non-null  float64\n",
      " 26  motorcycle                 775991 non-null  float64\n",
      " 27  NumberOfLanes              775991 non-null  float64\n",
      " 28  objectThrownOrDropped      775991 non-null  float64\n",
      " 29  otherObject                775991 non-null  float64\n",
      " 30  otherVehicleType           775991 non-null  float64\n",
      " 31  overBank                   775991 non-null  float64\n",
      " 32  parkedVehicle              775991 non-null  float64\n",
      " 33  phoneBoxEtc                775991 non-null  float64\n",
      " 34  postOrPole                 775991 non-null  float64\n",
      " 35  region                     775991 non-null  object \n",
      " 36  roadCharacter              775991 non-null  object \n",
      " 37  roadLane                   775991 non-null  object \n",
      " 38  roadSurface                775991 non-null  object \n",
      " 39  roadworks                  775991 non-null  float64\n",
      " 40  schoolBus                  775991 non-null  float64\n",
      " 41  seriousInjuryCount         775991 non-null  float64\n",
      " 42  slipOrFlood                775991 non-null  float64\n",
      " 43  speedLimit                 775991 non-null  float64\n",
      " 44  strayAnimal                775991 non-null  float64\n",
      " 45  streetLight                775991 non-null  object \n",
      " 46  suv                        775991 non-null  float64\n",
      " 47  taxi                       775991 non-null  float64\n",
      " 48  tlaName                    775991 non-null  object \n",
      " 49  trafficControl             775991 non-null  object \n",
      " 50  trafficIsland              775991 non-null  float64\n",
      " 51  trafficSign                775991 non-null  float64\n",
      " 52  train                      775991 non-null  float64\n",
      " 53  tree                       775991 non-null  float64\n",
      " 54  truck                      775991 non-null  float64\n",
      " 55  unknownVehicleType         775991 non-null  float64\n",
      " 56  urban                      775991 non-null  object \n",
      " 57  vanOrUtility               775991 non-null  float64\n",
      " 58  vehicle                    775991 non-null  float64\n",
      " 59  waterRiver                 775991 non-null  float64\n",
      " 60  weatherA                   775991 non-null  object \n",
      "dtypes: float64(42), int64(1), object(18)\n",
      "memory usage: 361.1+ MB\n"
     ]
    }
   ],
   "source": [
    "df.info()"
   ]
  },
  {
   "cell_type": "code",
   "execution_count": 8,
   "metadata": {},
   "outputs": [
    {
     "data": {
      "text/plain": [
       "0.0     582954\n",
       "1.0     154825\n",
       "2.0      28572\n",
       "3.0       6590\n",
       "4.0       2068\n",
       "5.0        622\n",
       "6.0        222\n",
       "7.0         81\n",
       "8.0         23\n",
       "9.0         13\n",
       "10.0         7\n",
       "11.0         2\n",
       "18.0         2\n",
       "16.0         2\n",
       "30.0         1\n",
       "13.0         1\n",
       "26.0         1\n",
       "12.0         1\n",
       "34.0         1\n",
       "15.0         1\n",
       "14.0         1\n",
       "21.0         1\n",
       "Name: minorInjuryCount, dtype: int64"
      ]
     },
     "execution_count": 8,
     "metadata": {},
     "output_type": "execute_result"
    }
   ],
   "source": [
    "df.minorInjuryCount.value_counts()"
   ]
  },
  {
   "cell_type": "code",
   "execution_count": 9,
   "metadata": {},
   "outputs": [
    {
     "data": {
      "image/png": "[encoded data removed]",
      "text/plain": [
       "<Figure size 720x360 with 1 Axes>"
      ]
     },
     "metadata": {},
     "output_type": "display_data"
    }
   ],
   "source": [
    "plt.figure(figsize=(10,5))\n",
    "plt.xlabel('minorInjuryCount')\n",
    "plt.ylabel('Density')\n",
    "sns.histplot(df['minorInjuryCount'])\n",
    "plt.show()"
   ]
  },
  {
   "cell_type": "code",
   "execution_count": 10,
   "metadata": {},
   "outputs": [],
   "source": [
    "df['mcount'] = df.apply(\n",
    "    lambda row: 5 if row['minorInjuryCount'] >=3 else row['minorInjuryCount'] ,\n",
    "    axis=1\n",
    ")"
   ]
  },
  {
   "cell_type": "code",
   "execution_count": 11,
   "metadata": {},
   "outputs": [
    {
     "data": {
      "text/plain": [
       "0.0    582954\n",
       "1.0    154825\n",
       "2.0     28572\n",
       "5.0      9640\n",
       "Name: mcount, dtype: int64"
      ]
     },
     "execution_count": 11,
     "metadata": {},
     "output_type": "execute_result"
    }
   ],
   "source": [
    "df.mcount.value_counts()"
   ]
  },
  {
   "cell_type": "code",
   "execution_count": 12,
   "metadata": {},
   "outputs": [
    {
     "data": {
      "text/plain": [
       "(775991, 62)"
      ]
     },
     "execution_count": 12,
     "metadata": {},
     "output_type": "execute_result"
    }
   ],
   "source": [
    "df.shape"
   ]
  },
  {
   "cell_type": "code",
   "execution_count": 13,
   "metadata": {
    "scrolled": true
   },
   "outputs": [
    {
     "data": {
      "text/plain": [
       "crashSHDescription    0.000129\n",
       "dtype: float64"
      ]
     },
     "execution_count": 13,
     "metadata": {},
     "output_type": "execute_result"
    }
   ],
   "source": [
    "null_columns = df.columns[df.isnull().any()]\n",
    "(df[null_columns].isnull().sum()/len(df))*100"
   ]
  },
  {
   "cell_type": "markdown",
   "metadata": {},
   "source": [
    "## Modeling"
   ]
  },
  {
   "cell_type": "code",
   "execution_count": 16,
   "metadata": {},
   "outputs": [],
   "source": [
    "def calculate_residuals(model, features, label):\n",
    "    predictions = model.predict(features)\n",
    "    df_results = pd.DataFrame({'Actual': label.squeeze(1), 'Predicted': predictions})\n",
    "    df_results['PredictedT'] = np.round(df_results['Predicted'])\n",
    "    df_results['Residuals'] = (df_results['Actual'] - df_results['Predicted'])\n",
    "        \n",
    "    return df_results"
   ]
  },
  {
   "cell_type": "code",
   "execution_count": 18,
   "metadata": {},
   "outputs": [],
   "source": [
    "def normal_errors_assumption(model, features, label):\n",
    "    df_results = calculate_residuals(model, features, label) \n",
    "    plt.subplots(figsize=(12, 6))\n",
    "    plt.title('Distribution of Residuals')\n",
    "    sns.distplot(df_results['Residuals'])\n",
    "    plt.show()"
   ]
  },
  {
   "cell_type": "code",
   "execution_count": 19,
   "metadata": {},
   "outputs": [],
   "source": [
    "def Feature_imp(Model,n,X,y):\n",
    "    model = Model\n",
    "    # create the RFE model and select attributes\n",
    "    rfe = RFE(model,n_features_to_select= n)\n",
    "    rfe = rfe.fit(X, y)\n",
    "    # summarize the selection of the attributes\n",
    "    return pd.DataFrame({'Decision':rfe.support_,'Ranking':rfe.ranking_,'Feature':X.columns})"
   ]
  },
  {
   "cell_type": "markdown",
   "metadata": {},
   "source": [
    "### Possion distribution to find significant alpha"
   ]
  },
  {
   "cell_type": "code",
   "execution_count": 20,
   "metadata": {},
   "outputs": [
    {
     "data": {
      "text/plain": [
       "0.31655779512906723"
      ]
     },
     "execution_count": 20,
     "metadata": {},
     "output_type": "execute_result"
    }
   ],
   "source": [
    "df.minorInjuryCount.mean()"
   ]
  },
  {
   "cell_type": "code",
   "execution_count": 21,
   "metadata": {},
   "outputs": [
    {
     "data": {
      "text/plain": [
       "0.41211206826943525"
      ]
     },
     "execution_count": 21,
     "metadata": {},
     "output_type": "execute_result"
    }
   ],
   "source": [
    "df.minorInjuryCount.var()"
   ]
  },
  {
   "cell_type": "code",
   "execution_count": 22,
   "metadata": {},
   "outputs": [],
   "source": [
    "formula = \"mcount ~ bicycle+bridge+bus+carStationWagon+cliffBank+debris+ditch+fence+flatHill+guardRail+houseOrBuilding+kerb+moped+motorcycle+NumberOfLanes+objectThrownOrDropped+otherObject+otherVehicleType+overBank+parkedVehicle+phoneBoxEtc+postOrPole+roadworks+schoolBus+slipOrFlood+speedLimit+strayAnimal+streetLight+suv+taxi+trafficIsland+trafficSign+train+tree+truck+unknownVehicleType+urban+vanOrUtility+vehicle+waterRiver\"\n",
    "y, X = dmatrices(formula, df, return_type='dataframe')\n",
    "X.drop(\"Intercept\",axis=1,inplace=True)"
   ]
  },
  {
   "cell_type": "code",
   "execution_count": 23,
   "metadata": {},
   "outputs": [],
   "source": [
    "X_train, X_test, y_train, y_test = train_test_split(X, y, test_size=0.20, random_state=9)"
   ]
  },
  {
   "cell_type": "code",
   "execution_count": 24,
   "metadata": {},
   "outputs": [],
   "source": [
    "Feature = Feature_imp(PoissonRegressor(),11,X_train,y_train)"
   ]
  },
  {
   "cell_type": "code",
   "execution_count": 25,
   "metadata": {},
   "outputs": [
    {
     "data": {
      "text/html": [
       "<div>\n",
       "<style scoped>\n",
       "    .dataframe tbody tr th:only-of-type {\n",
       "        vertical-align: middle;\n",
       "    }\n",
       "\n",
       "    .dataframe tbody tr th {\n",
       "        vertical-align: top;\n",
       "    }\n",
       "\n",
       "    .dataframe thead th {\n",
       "        text-align: right;\n",
       "    }\n",
       "</style>\n",
       "<table border=\"1\" class=\"dataframe\">\n",
       "  <thead>\n",
       "    <tr style=\"text-align: right;\">\n",
       "      <th></th>\n",
       "      <th>Decision</th>\n",
       "      <th>Ranking</th>\n",
       "      <th>Feature</th>\n",
       "    </tr>\n",
       "  </thead>\n",
       "  <tbody>\n",
       "    <tr>\n",
       "      <th>0</th>\n",
       "      <td>True</td>\n",
       "      <td>1</td>\n",
       "      <td>flatHill[T.Hill Road]</td>\n",
       "    </tr>\n",
       "    <tr>\n",
       "      <th>5</th>\n",
       "      <td>True</td>\n",
       "      <td>1</td>\n",
       "      <td>bicycle</td>\n",
       "    </tr>\n",
       "    <tr>\n",
       "      <th>8</th>\n",
       "      <td>True</td>\n",
       "      <td>1</td>\n",
       "      <td>carStationWagon</td>\n",
       "    </tr>\n",
       "    <tr>\n",
       "      <th>9</th>\n",
       "      <td>True</td>\n",
       "      <td>1</td>\n",
       "      <td>cliffBank</td>\n",
       "    </tr>\n",
       "    <tr>\n",
       "      <th>17</th>\n",
       "      <td>True</td>\n",
       "      <td>1</td>\n",
       "      <td>motorcycle</td>\n",
       "    </tr>\n",
       "    <tr>\n",
       "      <th>18</th>\n",
       "      <td>True</td>\n",
       "      <td>1</td>\n",
       "      <td>NumberOfLanes</td>\n",
       "    </tr>\n",
       "    <tr>\n",
       "      <th>23</th>\n",
       "      <td>True</td>\n",
       "      <td>1</td>\n",
       "      <td>parkedVehicle</td>\n",
       "    </tr>\n",
       "    <tr>\n",
       "      <th>29</th>\n",
       "      <td>True</td>\n",
       "      <td>1</td>\n",
       "      <td>speedLimit</td>\n",
       "    </tr>\n",
       "    <tr>\n",
       "      <th>31</th>\n",
       "      <td>True</td>\n",
       "      <td>1</td>\n",
       "      <td>suv</td>\n",
       "    </tr>\n",
       "    <tr>\n",
       "      <th>36</th>\n",
       "      <td>True</td>\n",
       "      <td>1</td>\n",
       "      <td>tree</td>\n",
       "    </tr>\n",
       "    <tr>\n",
       "      <th>37</th>\n",
       "      <td>True</td>\n",
       "      <td>1</td>\n",
       "      <td>truck</td>\n",
       "    </tr>\n",
       "  </tbody>\n",
       "</table>\n",
       "</div>"
      ],
      "text/plain": [
       "    Decision  Ranking                Feature\n",
       "0       True        1  flatHill[T.Hill Road]\n",
       "5       True        1                bicycle\n",
       "8       True        1        carStationWagon\n",
       "9       True        1              cliffBank\n",
       "17      True        1             motorcycle\n",
       "18      True        1          NumberOfLanes\n",
       "23      True        1          parkedVehicle\n",
       "29      True        1             speedLimit\n",
       "31      True        1                    suv\n",
       "36      True        1                   tree\n",
       "37      True        1                  truck"
      ]
     },
     "execution_count": 25,
     "metadata": {},
     "output_type": "execute_result"
    }
   ],
   "source": [
    "Feature[Feature.Decision==True]"
   ]
  },
  {
   "cell_type": "code",
   "execution_count": 26,
   "metadata": {},
   "outputs": [],
   "source": [
    "X_train_poi = X[['flatHill[T.Hill Road]','bicycle','carStationWagon','motorcycle','NumberOfLanes','parkedVehicle','speedLimit','suv','tree','truck']]\n",
    "y_train_poi = y"
   ]
  },
  {
   "cell_type": "code",
   "execution_count": 27,
   "metadata": {},
   "outputs": [],
   "source": [
    "model_poi = sm.GLM(y_train_poi, X_train_poi,family=sm.families.Poisson()).fit()"
   ]
  },
  {
   "cell_type": "code",
   "execution_count": 28,
   "metadata": {},
   "outputs": [
    {
     "data": {
      "text/html": [
       "<table class=\"simpletable\">\n",
       "<tr>\n",
       "        <td>Model:</td>               <td>GLM</td>            <td>AIC:</td>       <td>1226105.0246</td> \n",
       "</tr>\n",
       "<tr>\n",
       "    <td>Link Function:</td>           <td>log</td>            <td>BIC:</td>       <td>-9715570.5750</td>\n",
       "</tr>\n",
       "<tr>\n",
       "  <td>Dependent Variable:</td>      <td>mcount</td>      <td>Log-Likelihood:</td>  <td>-6.1304e+05</td> \n",
       "</tr>\n",
       "<tr>\n",
       "         <td>Date:</td>        <td>2022-04-10 11:47</td>    <td>LL-Null:</td>      <td>-6.1044e+05</td> \n",
       "</tr>\n",
       "<tr>\n",
       "   <td>No. Observations:</td>       <td>775991</td>         <td>Deviance:</td>     <td>8.0820e+05</td>  \n",
       "</tr>\n",
       "<tr>\n",
       "       <td>Df Model:</td>              <td>9</td>         <td>Pearson chi2:</td>    <td>1.37e+06</td>   \n",
       "</tr>\n",
       "<tr>\n",
       "     <td>Df Residuals:</td>         <td>775981</td>          <td>Scale:</td>         <td>1.0000</td>    \n",
       "</tr>\n",
       "<tr>\n",
       "        <td>Method:</td>             <td>IRLS</td>              <td></td>               <td></td>       \n",
       "</tr>\n",
       "</table>\n",
       "<table class=\"simpletable\">\n",
       "<tr>\n",
       "            <td></td>             <th>Coef.</th>  <th>Std.Err.</th>     <th>z</th>      <th>P>|z|</th> <th>[0.025</th>  <th>0.975]</th> \n",
       "</tr>\n",
       "<tr>\n",
       "  <th>flatHill[T.Hill Road]</th> <td>0.0380</td>   <td>0.0047</td>   <td>8.0057</td>   <td>0.0000</td> <td>0.0287</td>  <td>0.0473</td> \n",
       "</tr>\n",
       "<tr>\n",
       "  <th>bicycle</th>               <td>0.4476</td>   <td>0.0081</td>   <td>55.4989</td>  <td>0.0000</td> <td>0.4318</td>  <td>0.4634</td> \n",
       "</tr>\n",
       "<tr>\n",
       "  <th>carStationWagon</th>       <td>-0.1938</td>  <td>0.0026</td>  <td>-74.1142</td>  <td>0.0000</td> <td>-0.1989</td> <td>-0.1886</td>\n",
       "</tr>\n",
       "<tr>\n",
       "  <th>motorcycle</th>            <td>0.2070</td>   <td>0.0082</td>   <td>25.1720</td>  <td>0.0000</td> <td>0.1909</td>  <td>0.2231</td> \n",
       "</tr>\n",
       "<tr>\n",
       "  <th>NumberOfLanes</th>         <td>-0.2508</td>  <td>0.0021</td>  <td>-117.9463</td> <td>0.0000</td> <td>-0.2549</td> <td>-0.2466</td>\n",
       "</tr>\n",
       "<tr>\n",
       "  <th>parkedVehicle</th>         <td>-0.7227</td>  <td>0.0085</td>  <td>-84.5776</td>  <td>0.0000</td> <td>-0.7394</td> <td>-0.7059</td>\n",
       "</tr>\n",
       "<tr>\n",
       "  <th>speedLimit</th>            <td>-0.0027</td>  <td>0.0001</td>  <td>-42.8394</td>  <td>0.0000</td> <td>-0.0029</td> <td>-0.0026</td>\n",
       "</tr>\n",
       "<tr>\n",
       "  <th>suv</th>                   <td>-0.0307</td>  <td>0.0059</td>   <td>-5.2234</td>  <td>0.0000</td> <td>-0.0422</td> <td>-0.0192</td>\n",
       "</tr>\n",
       "<tr>\n",
       "  <th>tree</th>                  <td>0.1182</td>   <td>0.0086</td>   <td>13.7935</td>  <td>0.0000</td> <td>0.1014</td>  <td>0.1350</td> \n",
       "</tr>\n",
       "<tr>\n",
       "  <th>truck</th>                 <td>-0.2970</td>  <td>0.0077</td>  <td>-38.3738</td>  <td>0.0000</td> <td>-0.3122</td> <td>-0.2819</td>\n",
       "</tr>\n",
       "</table>"
      ],
      "text/plain": [
       "<class 'statsmodels.iolib.summary2.Summary'>\n",
       "\"\"\"\n",
       "                   Results: Generalized linear model\n",
       "=======================================================================\n",
       "Model:                 GLM               AIC:             1226105.0246 \n",
       "Link Function:         log               BIC:             -9715570.5750\n",
       "Dependent Variable:    mcount            Log-Likelihood:  -6.1304e+05  \n",
       "Date:                  2022-04-10 11:47  LL-Null:         -6.1044e+05  \n",
       "No. Observations:      775991            Deviance:        8.0820e+05   \n",
       "Df Model:              9                 Pearson chi2:    1.37e+06     \n",
       "Df Residuals:          775981            Scale:           1.0000       \n",
       "Method:                IRLS                                            \n",
       "-----------------------------------------------------------------------\n",
       "                       Coef.  Std.Err.     z     P>|z|   [0.025  0.975]\n",
       "-----------------------------------------------------------------------\n",
       "flatHill[T.Hill Road]  0.0380   0.0047    8.0057 0.0000  0.0287  0.0473\n",
       "bicycle                0.4476   0.0081   55.4989 0.0000  0.4318  0.4634\n",
       "carStationWagon       -0.1938   0.0026  -74.1142 0.0000 -0.1989 -0.1886\n",
       "motorcycle             0.2070   0.0082   25.1720 0.0000  0.1909  0.2231\n",
       "NumberOfLanes         -0.2508   0.0021 -117.9463 0.0000 -0.2549 -0.2466\n",
       "parkedVehicle         -0.7227   0.0085  -84.5776 0.0000 -0.7394 -0.7059\n",
       "speedLimit            -0.0027   0.0001  -42.8394 0.0000 -0.0029 -0.0026\n",
       "suv                   -0.0307   0.0059   -5.2234 0.0000 -0.0422 -0.0192\n",
       "tree                   0.1182   0.0086   13.7935 0.0000  0.1014  0.1350\n",
       "truck                 -0.2970   0.0077  -38.3738 0.0000 -0.3122 -0.2819\n",
       "=======================================================================\n",
       "\n",
       "\"\"\""
      ]
     },
     "execution_count": 28,
     "metadata": {},
     "output_type": "execute_result"
    }
   ],
   "source": [
    "model_poi.summary2()"
   ]
  },
  {
   "cell_type": "code",
   "execution_count": 29,
   "metadata": {},
   "outputs": [
    {
     "data": {
      "text/plain": [
       "1.7595159799074285"
      ]
     },
     "execution_count": 29,
     "metadata": {},
     "output_type": "execute_result"
    }
   ],
   "source": [
    "model_poi.pearson_chi2/model_poi.df_resid"
   ]
  },
  {
   "cell_type": "code",
   "execution_count": 30,
   "metadata": {},
   "outputs": [
    {
     "data": {
      "text/plain": [
       "array([0.42216056, 0.35864201, 0.43531823, ..., 0.31292368, 0.34255312,\n",
       "       0.21718831])"
      ]
     },
     "execution_count": 30,
     "metadata": {},
     "output_type": "execute_result"
    }
   ],
   "source": [
    "model_poi.mu"
   ]
  },
  {
   "cell_type": "code",
   "execution_count": 31,
   "metadata": {},
   "outputs": [],
   "source": [
    "X_train_poi['Count'] = y_train_poi"
   ]
  },
  {
   "cell_type": "code",
   "execution_count": 32,
   "metadata": {},
   "outputs": [],
   "source": [
    "X_train_poi['Lambda'] = model_poi.mu"
   ]
  },
  {
   "cell_type": "code",
   "execution_count": 33,
   "metadata": {},
   "outputs": [],
   "source": [
    "X_train_poi['AUX_OLS_DEP'] = X_train_poi.apply(lambda x: ((x['Count'] - x['Lambda'])**2 - x['Lambda']) / x['Lambda'], axis=1)"
   ]
  },
  {
   "cell_type": "code",
   "execution_count": 34,
   "metadata": {},
   "outputs": [
    {
     "data": {
      "text/html": [
       "<div>\n",
       "<style scoped>\n",
       "    .dataframe tbody tr th:only-of-type {\n",
       "        vertical-align: middle;\n",
       "    }\n",
       "\n",
       "    .dataframe tbody tr th {\n",
       "        vertical-align: top;\n",
       "    }\n",
       "\n",
       "    .dataframe thead th {\n",
       "        text-align: right;\n",
       "    }\n",
       "</style>\n",
       "<table border=\"1\" class=\"dataframe\">\n",
       "  <thead>\n",
       "    <tr style=\"text-align: right;\">\n",
       "      <th></th>\n",
       "      <th>flatHill[T.Hill Road]</th>\n",
       "      <th>bicycle</th>\n",
       "      <th>carStationWagon</th>\n",
       "      <th>motorcycle</th>\n",
       "      <th>NumberOfLanes</th>\n",
       "      <th>parkedVehicle</th>\n",
       "      <th>speedLimit</th>\n",
       "      <th>suv</th>\n",
       "      <th>tree</th>\n",
       "      <th>truck</th>\n",
       "      <th>Count</th>\n",
       "      <th>Lambda</th>\n",
       "      <th>AUX_OLS_DEP</th>\n",
       "    </tr>\n",
       "  </thead>\n",
       "  <tbody>\n",
       "    <tr>\n",
       "      <th>0</th>\n",
       "      <td>0.0</td>\n",
       "      <td>0.0</td>\n",
       "      <td>1.0</td>\n",
       "      <td>0.0</td>\n",
       "      <td>2.0</td>\n",
       "      <td>0.0</td>\n",
       "      <td>50.0</td>\n",
       "      <td>1.0</td>\n",
       "      <td>0.0</td>\n",
       "      <td>0.0</td>\n",
       "      <td>0.0</td>\n",
       "      <td>0.422161</td>\n",
       "      <td>-0.577839</td>\n",
       "    </tr>\n",
       "    <tr>\n",
       "      <th>1</th>\n",
       "      <td>0.0</td>\n",
       "      <td>0.0</td>\n",
       "      <td>2.0</td>\n",
       "      <td>0.0</td>\n",
       "      <td>2.0</td>\n",
       "      <td>0.0</td>\n",
       "      <td>50.0</td>\n",
       "      <td>0.0</td>\n",
       "      <td>0.0</td>\n",
       "      <td>0.0</td>\n",
       "      <td>0.0</td>\n",
       "      <td>0.358642</td>\n",
       "      <td>-0.641358</td>\n",
       "    </tr>\n",
       "    <tr>\n",
       "      <th>2</th>\n",
       "      <td>0.0</td>\n",
       "      <td>0.0</td>\n",
       "      <td>1.0</td>\n",
       "      <td>0.0</td>\n",
       "      <td>2.0</td>\n",
       "      <td>0.0</td>\n",
       "      <td>50.0</td>\n",
       "      <td>0.0</td>\n",
       "      <td>0.0</td>\n",
       "      <td>0.0</td>\n",
       "      <td>0.0</td>\n",
       "      <td>0.435318</td>\n",
       "      <td>-0.564682</td>\n",
       "    </tr>\n",
       "    <tr>\n",
       "      <th>3</th>\n",
       "      <td>1.0</td>\n",
       "      <td>0.0</td>\n",
       "      <td>2.0</td>\n",
       "      <td>0.0</td>\n",
       "      <td>2.0</td>\n",
       "      <td>0.0</td>\n",
       "      <td>50.0</td>\n",
       "      <td>0.0</td>\n",
       "      <td>0.0</td>\n",
       "      <td>0.0</td>\n",
       "      <td>1.0</td>\n",
       "      <td>0.372525</td>\n",
       "      <td>0.056908</td>\n",
       "    </tr>\n",
       "    <tr>\n",
       "      <th>4</th>\n",
       "      <td>0.0</td>\n",
       "      <td>0.0</td>\n",
       "      <td>2.0</td>\n",
       "      <td>0.0</td>\n",
       "      <td>2.0</td>\n",
       "      <td>0.0</td>\n",
       "      <td>50.0</td>\n",
       "      <td>0.0</td>\n",
       "      <td>0.0</td>\n",
       "      <td>0.0</td>\n",
       "      <td>0.0</td>\n",
       "      <td>0.358642</td>\n",
       "      <td>-0.641358</td>\n",
       "    </tr>\n",
       "  </tbody>\n",
       "</table>\n",
       "</div>"
      ],
      "text/plain": [
       "   flatHill[T.Hill Road]  bicycle  carStationWagon  motorcycle  NumberOfLanes  \\\n",
       "0                    0.0      0.0              1.0         0.0            2.0   \n",
       "1                    0.0      0.0              2.0         0.0            2.0   \n",
       "2                    0.0      0.0              1.0         0.0            2.0   \n",
       "3                    1.0      0.0              2.0         0.0            2.0   \n",
       "4                    0.0      0.0              2.0         0.0            2.0   \n",
       "\n",
       "   parkedVehicle  speedLimit  suv  tree  truck  Count    Lambda  AUX_OLS_DEP  \n",
       "0            0.0        50.0  1.0   0.0    0.0    0.0  0.422161    -0.577839  \n",
       "1            0.0        50.0  0.0   0.0    0.0    0.0  0.358642    -0.641358  \n",
       "2            0.0        50.0  0.0   0.0    0.0    0.0  0.435318    -0.564682  \n",
       "3            0.0        50.0  0.0   0.0    0.0    1.0  0.372525     0.056908  \n",
       "4            0.0        50.0  0.0   0.0    0.0    0.0  0.358642    -0.641358  "
      ]
     },
     "execution_count": 34,
     "metadata": {},
     "output_type": "execute_result"
    }
   ],
   "source": [
    "X_train_poi.head()"
   ]
  },
  {
   "cell_type": "code",
   "execution_count": 35,
   "metadata": {},
   "outputs": [],
   "source": [
    "aux_olsr_results = sm.OLS(X_train_poi['Lambda'], X_train_poi['AUX_OLS_DEP']).fit()"
   ]
  },
  {
   "cell_type": "code",
   "execution_count": 36,
   "metadata": {},
   "outputs": [
    {
     "name": "stdout",
     "output_type": "stream",
     "text": [
      "AUX_OLS_DEP    0.001898\n",
      "dtype: float64\n"
     ]
    }
   ],
   "source": [
    "print(aux_olsr_results.params)"
   ]
  },
  {
   "cell_type": "code",
   "execution_count": 37,
   "metadata": {},
   "outputs": [
    {
     "data": {
      "text/plain": [
       "AUX_OLS_DEP    43.274433\n",
       "dtype: float64"
      ]
     },
     "execution_count": 37,
     "metadata": {},
     "output_type": "execute_result"
    }
   ],
   "source": [
    "aux_olsr_results.tvalues #1.644855 t-value"
   ]
  }
 ],
 "metadata": {
  "colab": {
   "name": "Actuarial_CAS.ipynb",
   "provenance": []
  },
  "kernelspec": {
   "display_name": "Python 3 (ipykernel)",
   "language": "python",
   "name": "python3"
  },
  "language_info": {
   "codemirror_mode": {
    "name": "ipython",
    "version": 3
   },
   "file_extension": ".py",
   "mimetype": "text/x-python",
   "name": "python",
   "nbconvert_exporter": "python",
   "pygments_lexer": "ipython3",
   "version": "3.9.7"
  }
 },
 "nbformat": 4,
 "nbformat_minor": 1
}
